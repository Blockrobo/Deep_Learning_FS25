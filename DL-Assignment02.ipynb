{
 "cells": [
  {
   "attachments": {},
   "cell_type": "markdown",
   "metadata": {
    "id": "9jiIATcpFsPc"
   },
   "source": [
    "### Group Members:\n",
    "\n",
    "- Roberto Honegger, 16-715-419\n",
    "- Name, matriculation number\n",
    "- Name, matriculation number"
   ]
  },
  {
   "attachments": {},
   "cell_type": "markdown",
   "metadata": {
    "id": "FcStVd7x1zL3"
   },
   "source": [
    "# Assignment 2: Binary and Categorical Classification\n",
    "\n",
    "For this assignment, we will use a similar two-layer network as Assignment 1 to implement binary and categorical classification using only `NumPy` package, without relying on `PyTorch` or any deep learning libraries.\n",
    "\n",
    "We will implement Binary Cross Entropy Loss and Categorical Cross Entropy Loss and their gradient manually with efficient matrix computation, and evaluate accuracy for two classification tasks.  \n"
   ]
  },
  {
   "attachments": {},
   "cell_type": "markdown",
   "metadata": {
    "id": "sIA1V8sU2W2W",
    "jp-MarkdownHeadingCollapsed": true
   },
   "source": [
    "## Theoretical Questions\n",
    "\n",
    "We will build and train a two-layer network similar to Assignment 1.\n",
    "Besides, we will apply **Logistic Function** ($\\sigma$) on the logits for binary classification and **Stable Softmax Function** ($\\tilde{\\mathcal S}$) on the logits for categorical classification.\n",
    "\n",
    "Questions in this section concern:\n",
    "\n",
    "1. Comparison between normal softmax $\\mathcal S$ and stable softmax $\\tilde{\\mathcal S}$\n",
    "2. Compute derivative of $\\tilde{\\mathcal S}$ that should be applied in the coding section\n",
    "3. Weight/Parameter Initialization\n",
    "4. Discussion on Evaluation Metrics of classification tasks"
   ]
  },
  {
   "attachments": {},
   "cell_type": "markdown",
   "metadata": {
    "id": "DmECZG_U39zs"
   },
   "source": [
    "### Task 1.1 Proof of Stable Softmax\n",
    "\n",
    "The softmax function is defined as:\n",
    "\n",
    "$$\n",
    "\\mathcal S(z_o) = \\frac{e^{z_o}}{\\sum\\limits_{o'} e^{z_{o'}}}\n",
    "$$\n",
    "\n",
    "However, when $ z_o $ has large values, the exponential $ e^{z_o} $ may grow too large, leading to numerical instability (e.g., overflow issues).\n",
    "To improve stability, we introduce the **stable softmax**:\n",
    "\n",
    "$$\n",
    "\\tilde{\\mathcal S}(z_o) = \\frac{e^{z_o - z_{\\max}}}{\\sum\\limits_{o'} e^{z_{o'} - z_{\\max}}}\n",
    "$$\n",
    "\n",
    "where $z_{\\max} = \\max\\limits_o z_o$.\n",
    "\n",
    "Prove that stable softmax is mathematically equivalent to the original softmax function.\n",
    "\n",
    "Discuss how stable softmax improves numerical stability, for instance, what will happen when $z_o$ is too large, or too small?"
   ]
  },
  {
   "cell_type": "markdown",
   "metadata": {},
   "source": [
    "### Answer: \n",
    "\n",
    "####  Task 1.1 – Proof of Stable Softmax\n",
    "\n",
    "The standard softmax is defined as:\n",
    "\n",
    "$$\n",
    "\\mathcal S(z_o) = \\frac{e^{z_o}}{\\sum\\limits_{o'} e^{z_{o'}}}\n",
    "$$\n",
    "\n",
    "The **stable softmax** is:\n",
    "\n",
    "$$\n",
    "\\tilde{\\mathcal S}(z_o) = \\frac{e^{z_o - z_{\\max}}}{\\sum\\limits_{o'} e^{z_{o'} - z_{\\max}}}\n",
    "$$\n",
    "\n",
    "with \\( z_{\\max} = \\max_o z_o \\).\n",
    "\n",
    "####  Proof of Equivalence\n",
    "\n",
    "Using the identity \\( e^{a - b} = \\frac{e^a}{e^b} \\), we get:\n",
    "\n",
    "$$\n",
    "\\tilde{\\mathcal S}(z_o) = \\frac{e^{z_o}/e^{z_{\\max}}}{\\sum\\limits_{o'} e^{z_{o'}}/e^{z_{\\max}}}\n",
    "= \\frac{e^{z_o}}{\\sum\\limits_{o'} e^{z_{o'}}} = \\mathcal S(z_o)\n",
    "$$\n",
    "\n",
    "Therefore, stable softmax is mathematically **equivalent** to the original softmax.\n",
    "\n",
    "---\n",
    "\n",
    "####  Why It Improves Stability\n",
    "\n",
    "- If \\( z_o \\) is very large (e.g. 1000), then \\( e^{z_o} \\) can overflow.\n",
    "- By subtracting \\( z_{\\max} \\), the largest value becomes 0 → all exponentials are ≤ 1.\n",
    "- This avoids overflow and keeps the computation **numerically stable**.\n",
    "\n"
   ]
  },
  {
   "attachments": {},
   "cell_type": "markdown",
   "metadata": {
    "id": "dF71qySq1qhn"
   },
   "source": [
    "### Task 1.2 Derivative of Stable Softmax\n",
    "\n",
    "\n",
    "Recall that in the lecture slides, when we compute gradient with respect to $w^{(1)}$ and $w^{(2)}$, as part of the chain rule, we replace $\\frac{\\partial\\mathcal J^{[n]}}{\\partial\\mathcal y_o^{[n]}}\\frac{\\partial\\mathcal y_o^{[n]}}{\\partial\\mathcal z_o^{[n]}}$ by $\\frac{\\partial\\mathcal J^{[n]}}{\\partial\\mathcal z_o^{[n]}}$ when we choose a good activation function.\n",
    "\n",
    "When normal softmax is applied, we have $\\frac{\\partial\\mathcal J^{[n]}}{\\partial\\mathcal z_o^{[n]}} = y_o^{[n]} - t_o^{[n]}$. Prove that $\\frac{\\partial\\mathcal J^{[n]}}{\\partial\\mathcal z_o^{[n]}}$ will return the same format when the activation function is stable softmax.\n",
    "\n"
   ]
  },
  {
   "attachments": {},
   "cell_type": "markdown",
   "metadata": {
    "id": "bUlc_2ta5bF1"
   },
   "source": [
    "### Answer: \n",
    "\n",
    "####  Task 1.2 – Derivative of Stable Softmax\n",
    "\n",
    "We want to prove that:\n",
    "\n",
    "$$\n",
    "\\frac{\\partial \\mathcal{J}^{[n]}}{\\partial z_o^{[n]}} = y_o^{[n]} - t_o^{[n]}\n",
    "$$\n",
    "\n",
    "holds **not only** for the regular softmax, but also for the **stable softmax**, where:\n",
    "\n",
    "- \\( y_o^{[n]} \\) = output of softmax for sample \\( n \\)\n",
    "- \\( t_o^{[n]} \\) = one-hot target\n",
    "- \\( z_o^{[n]} \\) = logit for output \\( o \\)\n",
    "\n",
    "---\n",
    "\n",
    "####  Setup\n",
    "\n",
    "Let’s define:\n",
    "\n",
    "- Stable softmax:\n",
    "  $$\n",
    "  y_o = \\tilde{\\mathcal S}(z_o) = \\frac{e^{z_o - z_{\\max}}}{\\sum_{j} e^{z_j - z_{\\max}}}\n",
    "  $$\n",
    "\n",
    "- Cross-entropy loss:\n",
    "  $$\n",
    "  \\mathcal{J} = - \\sum_{o} t_o \\log y_o\n",
    "  $$\n",
    "\n",
    "We want to compute the gradient:\n",
    "\\[\n",
    "\\frac{\\partial \\mathcal{J}}{\\partial z_o}\n",
    "\\]\n",
    "\n",
    "---\n",
    "\n",
    "####  Step-by-Step Derivation\n",
    "\n",
    "We apply the chain rule:\n",
    "\n",
    "\\[\n",
    "\\frac{\\partial \\mathcal{J}}{\\partial z_o}\n",
    "= \\sum_{k} \\frac{\\partial \\mathcal{J}}{\\partial y_k} \\cdot \\frac{\\partial y_k}{\\partial z_o}\n",
    "\\]\n",
    "\n",
    "We compute both parts:\n",
    "\n",
    "1. **Loss gradient wrt output:**\n",
    "\\[\n",
    "\\frac{\\partial \\mathcal{J}}{\\partial y_k} = -\\frac{t_k}{y_k}\n",
    "\\]\n",
    "\n",
    "2. **Softmax derivative (Jacobian):**\n",
    "\\[\n",
    "\\frac{\\partial y_k}{\\partial z_o} = y_k (\\delta_{ko} - y_o)\n",
    "\\]\n",
    "\n",
    "Now multiply:\n",
    "\n",
    "\\[\n",
    "\\frac{\\partial \\mathcal{J}}{\\partial z_o} = \\sum_k \\left( -\\frac{t_k}{y_k} \\cdot y_k (\\delta_{ko} - y_o) \\right)\n",
    "= \\sum_k \\left( -t_k (\\delta_{ko} - y_o) \\right)\n",
    "\\]\n",
    "\n",
    "Breaking it up:\n",
    "\n",
    "- For \\( k = o \\): \\( -t_o (1 - y_o) \\)\n",
    "- For \\( k \\neq o \\): \\( -t_k (-y_o) = t_k y_o \\)\n",
    "\n",
    "Sum over all:\n",
    "\n",
    "\\[\n",
    "\\frac{\\partial \\mathcal{J}}{\\partial z_o} = -t_o (1 - y_o) + \\sum_{k \\neq o} t_k y_o\n",
    "= -t_o + t_o y_o + y_o \\sum_{k \\neq o} t_k\n",
    "\\]\n",
    "\n",
    "But since \\( \\sum_k t_k = 1 \\), we have:\n",
    "\n",
    "\\[\n",
    "\\sum_{k \\neq o} t_k = 1 - t_o\n",
    "\\]\n",
    "\n",
    "So:\n",
    "\n",
    "\\[\n",
    "\\frac{\\partial \\mathcal{J}}{\\partial z_o}\n",
    "= -t_o + t_o y_o + y_o (1 - t_o)\n",
    "= -t_o + y_o (t_o + 1 - t_o)\n",
    "= -t_o + y_o\n",
    "= y_o - t_o\n",
    "\\]\n",
    "\n",
    " **Therefore:**\n",
    "\n",
    "\\[\n",
    "\\frac{\\partial \\mathcal{J}}{\\partial z_o} = y_o - t_o\n",
    "\\]\n",
    "\n",
    "This result **holds for both normal and stable softmax**, because their outputs \\( y_o \\) are **identical**, and only the internal computation differs (numerical stability).\n",
    "\n",
    "---\n",
    "\n",
    "###  Summary\n",
    "\n",
    "- Stable softmax produces the same outputs as regular softmax\n",
    "- Thus, the gradient of the cross-entropy loss w.r.t. logits is unchanged:\n",
    "  \\[\n",
    "  \\frac{\\partial \\mathcal{J}}{\\partial z_o} = y_o - t_o\n",
    "  \\]\n",
    "- This elegant result simplifies backpropagation and avoids the need to manually compute softmax + cross-entropy gradients separately\n"
   ]
  },
  {
   "attachments": {},
   "cell_type": "markdown",
   "metadata": {
    "id": "O-QbnR__zCJB"
   },
   "source": [
    "### Task 1.3 Weight Initialization\n",
    "\n",
    "Why do we need to randomly initialize the weights before training starts?\n",
    "\n",
    "1. Proof that a network with constantly initialized weights perform like a network with one hidden unit.\n",
    "2. Show that gradient decent is not able to change this behavior and will keep all neurons in the hidden layer identical throughout training."
   ]
  },
  {
   "attachments": {},
   "cell_type": "markdown",
   "metadata": {
    "id": "2cD9ZVUoznUE"
   },
   "source": [
    "### Answer: \n",
    "\n",
    "####  Task 1.3 – Weight Initialization\n",
    "\n",
    "---\n",
    "\n",
    "###  Why Random Initialization?\n",
    "\n",
    "If we initialize all weights to the **same value** (e.g., all zeros or all ones), then **every neuron in the same layer will behave identically** — both in forward and backward passes.\n",
    "\n",
    "That means the network can't **break symmetry** and learn useful features. Random initialization is needed to give each neuron a chance to learn something different.\n",
    "\n",
    "---\n",
    "\n",
    "###  1. Constant Initialization = One Hidden Unit\n",
    "\n",
    "Suppose we have a neural network with input \\( x \\in \\mathbb{R}^n \\), one hidden layer with \\( m \\) neurons, and output layer.\n",
    "\n",
    "If all weights \\( w^{(1)} \\) in the hidden layer are initialized to the same value, say:\n",
    "\n",
    "$$\n",
    "w^{(1)}_1 = w^{(1)}_2 = \\dots = w^{(1)}_m\n",
    "$$\n",
    "\n",
    "and all biases are the same:\n",
    "\n",
    "$$\n",
    "b^{(1)}_1 = b^{(1)}_2 = \\dots = b^{(1)}_m\n",
    "$$\n",
    "\n",
    "Then during the **forward pass**, each hidden neuron computes the same:\n",
    "\n",
    "$$\n",
    "z_i = w^{(1)} \\cdot x + b^{(1)} \\quad \\text{for all } i\n",
    "$$\n",
    "\n",
    "So all neurons in the hidden layer output the same activation:\n",
    "\n",
    "$$\n",
    "a_i = \\phi(z_i) = \\phi(w^{(1)} \\cdot x + b^{(1)})\n",
    "$$\n",
    "\n",
    " This makes the hidden layer act like **just one neuron repeated multiple times** — effectively, the network **collapses to one hidden unit**.\n",
    "\n",
    "---\n",
    "\n",
    "###  2. Why Gradient Descent Can’t Fix It\n",
    "\n",
    "Let’s look at the **backpropagation step**:\n",
    "\n",
    "During backprop, the update for each hidden neuron depends on:\n",
    "\n",
    "$$\n",
    "\\Delta w^{(1)}_i \\propto \\frac{\\partial \\mathcal{J}}{\\partial w^{(1)}_i}\n",
    "$$\n",
    "\n",
    "But since:\n",
    "\n",
    "- All hidden neurons have the **same input**\n",
    "- All neurons compute the **same output**\n",
    "- The gradients will also be **identical**\n",
    "\n",
    "That means:\n",
    "\n",
    "$$\n",
    "\\Delta w^{(1)}_1 = \\Delta w^{(1)}_2 = \\dots = \\Delta w^{(1)}_m\n",
    "$$\n",
    "\n",
    "So even after the update step, all weights **stay the same**.\n",
    "\n",
    " Therefore, **gradient descent cannot break the symmetry**, and the network will continue behaving as if it has **only one unique hidden unit**.\n",
    "\n",
    "---\n",
    "\n",
    "###  Summary\n",
    "\n",
    "- Constant initialization leads to **identical neurons** in the hidden layer\n",
    "- This results in the network behaving like it has only **one hidden unit**\n",
    "- Gradient descent **cannot break** this symmetry\n",
    "- That’s why **random initialization** is essential: to let neurons learn **different features**\n"
   ]
  },
  {
   "attachments": {},
   "cell_type": "markdown",
   "metadata": {
    "id": "uBmFHEbvNoT7"
   },
   "source": [
    "### Task 1.4 Evaluation Metrics\n",
    "\n",
    "If a binary classifier achieves an accuracy greater than 90%, see example plot in the OLAT, does this always indicate good performance? Might high accuracy in this binary classification be misleading? \n",
    "\n",
    "What alternative evaluation approaches could better capture model performance in such scenarios?\n",
    "\n"
   ]
  },
  {
   "attachments": {},
   "cell_type": "markdown",
   "metadata": {
    "id": "DRDxQW4xy2E3"
   },
   "source": [
    "Answer: \n",
    "\n",
    "###  Task – Accuracy Above 90%: Is It Always Good?\n",
    "\n",
    "No, achieving over 90% accuracy in binary classification **does not always indicate good model performance**.\n",
    "\n",
    "####  Why Accuracy Can Be Misleading\n",
    "\n",
    "In **imbalanced datasets**, where one class is much more frequent than the other, a model can achieve high accuracy by simply predicting the majority class all the time.\n",
    "\n",
    "**Example:**\n",
    "- 95% of samples are class 0 (negative)\n",
    "- 5% are class 1 (positive)\n",
    "\n",
    "A model that **always predicts class 0** will achieve 95% accuracy — but it **completely fails** to detect class 1.\n",
    "\n",
    "---\n",
    "\n",
    "####  Better Evaluation Metrics\n",
    "\n",
    "To capture model performance more reliably in such scenarios, consider:\n",
    "\n",
    "- **Precision**: How many predicted positives are actually correct?\n",
    "  \\[\n",
    "  \\text{Precision} = \\frac{TP}{TP + FP}\n",
    "  \\]\n",
    "\n",
    "- **Recall (Sensitivity)**: How many actual positives did we correctly predict?\n",
    "  \\[\n",
    "  \\text{Recall} = \\frac{TP}{TP + FN}\n",
    "  \\]\n",
    "\n",
    "- **F1 Score**: Harmonic mean of precision and recall — balances both\n",
    "  \\[\n",
    "  \\text{F1} = 2 \\cdot \\frac{\\text{Precision} \\cdot \\text{Recall}}{\\text{Precision} + \\text{Recall}}\n",
    "  \\]\n",
    "\n",
    "- **Confusion Matrix**: Gives full insight into TP, FP, TN, FN\n",
    "- **ROC Curve & AUC**: Shows model's ability to separate classes across thresholds\n",
    "\n",
    "---\n",
    "\n",
    "###  Summary\n",
    "\n",
    "High accuracy might just mean the model is good at guessing the **majority class**, not that it understands the problem. Use **precision, recall, F1-score**, and **confusion matrix** to get a complete picture of model performance.\n"
   ]
  },
  {
   "attachments": {},
   "cell_type": "markdown",
   "metadata": {
    "id": "hi5N_hI79qkF"
   },
   "source": [
    "## Coding\n",
    "\n",
    "**<font color='red' size='5'>This section has to be submitted by 11:59 p.m. on Wednesday, March 26, to be graded.</font>**"
   ]
  },
  {
   "attachments": {},
   "cell_type": "markdown",
   "metadata": {
    "id": "E-n2m59B4iP8"
   },
   "source": [
    "### Dataset\n",
    "\n",
    "We will use two different datasets, the *churn* dataset https://archive.ics.uci.edu/dataset/563/iranian+churn+dataset for a binary classification and the *winequality-red* dataset https://archive.ics.uci.edu/dataset/186/wine+quality for a categorical classification. Both datasets are available on the UCI Machine Learning repository.\n",
    "\n",
    "The binary classification dataset contains features extracted from customers of a telecommunication company, which are classified as either churn or not.\n",
    "The categorical classification dataset contains chemical measurements for seven distinct qualities of a Portuguese white wine.\n",
    "In the former dataset, the class is indicated in the final column named \"Churn\", whereas for the latter, target information is provided in the last column named \"quality.\"\n",
    "\n",
    "Please run the code block below to download the data files."
   ]
  },
  {
   "cell_type": "code",
   "execution_count": 55,
   "metadata": {
    "id": "5Shd71QB4iP_"
   },
   "outputs": [
    {
     "name": "stdout",
     "output_type": "stream",
     "text": [
      "File 'churn_data.zip' already exists. Skipping download.\n",
      "File 'churn_data.csv' already extracted. Skipping extraction.\n",
      "File 'winequality-red.csv' already exists. Skipping download.\n"
     ]
    }
   ],
   "source": [
    "import os\n",
    "import zipfile\n",
    "import urllib.request\n",
    "\n",
    "# Download the two dataset files\n",
    "dataset_files = {\n",
    "    \"churn_data.zip\": \"https://archive.ics.uci.edu/static/public/563/iranian+churn+dataset.zip\",\n",
    "    \"winequality-red.csv\": \"https://archive.ics.uci.edu/ml/machine-learning-databases/wine-quality/winequality-red.csv\"\n",
    "}\n",
    "\n",
    "for name, url in dataset_files.items():\n",
    "    base, extension = os.path.splitext(name)  # Get file name without extension\n",
    "\n",
    "    if os.path.exists(name):\n",
    "        print(f\"File '{name}' already exists. Skipping download.\")\n",
    "    else:\n",
    "        # Download the file\n",
    "        urllib.request.urlretrieve(url, name)\n",
    "        print(f\"Downloaded {name} successfully.\")\n",
    "\n",
    "    # Check if it's a zip file and if it has been extracted\n",
    "    if extension == \".zip\":\n",
    "        extracted_file = os.path.join(base + \".csv\")  # Expected extracted file name\n",
    "\n",
    "        if not os.path.exists(extracted_file):\n",
    "            with zipfile.ZipFile(name, 'r') as zip_ref:\n",
    "                zip_ref.extractall()\n",
    "            print(f\"Extracted {name} successfully.\")\n",
    "\n",
    "            # Rename the extracted file\n",
    "            os.rename(\"Customer Churn.csv\", extracted_file)\n",
    "        else:\n",
    "            print(f\"File '{extracted_file}' already extracted. Skipping extraction.\")\n"
   ]
  },
  {
   "attachments": {},
   "cell_type": "markdown",
   "metadata": {
    "id": "ySwkAKSM4iQA"
   },
   "source": [
    "#### Task 2.1: Dataset Loading\n",
    "\n",
    "The first task deals with the loading of the datasets.\n",
    "When training networks in `NumPy`, all data needs to be stored as NumPy arrays.\n",
    "The data should be split between input matrix $\\mathbf X \\in \\mathbb R^{D\\times N}$ and target matrix $\\mathbf T \\in \\mathbb R^{O\\times N}$.\n",
    "We need to **add a bias neuron to the input** so that we have $\\mathbf X \\in \\mathbb R^{(D+1)\\times N}$\n",
    "\n",
    "\n",
    "<!-- For the targets, we have to be more careful as there are differences w.r.t. the applied loss function.\n",
    "\n",
    "*   For binary classification, we need $\\mathbf T \\in \\mathbb R^{1\\times N}$.\n",
    "*   For categorical classification, we only need the class indexes $\\vec t = [t^{[1]}, \\ldots, t^{[N]}]$ to be in dimension $\\mathbb N^N$. -->\n",
    "\n",
    "\n",
    "Implement a function that returns both the input and the target data for a given dataset.\n",
    "\n",
    "Note:\n",
    "\n",
    "1. You can use `csv.reader()` to read the dataset, or rely on other methods such as `pandas`\n",
    "2. Please note that in the wine dataset CSV file, all values are separated by `;`, whereas in the churn dataset, they are separated by `,`\n",
    "3. For the wine dataset, convert 6 target values into a one-hot matrix so that the dimension is $\\mathbb R^{6\\times N}$. **Be aware that the target values in the wine dataset do not start at index 0.**"
   ]
  },
  {
   "cell_type": "code",
   "execution_count": 58,
   "metadata": {
    "id": "mnlXaDVVDMd2"
   },
   "outputs": [],
   "source": [
    "import numpy\n",
    "import csv\n",
    "\n",
    "def dataset(dataset_file=\"winequality-red.csv\", delimiter=\";\"):\n",
    "  # read dataset\n",
    "  data = []\n",
    "  with open(dataset_file, 'r') as f:\n",
    "    reader = csv.reader(f, delimiter=delimiter)\n",
    "    next(reader)  # skip header\n",
    "    for row in reader:\n",
    "      data.append([float(val) for val in row])\n",
    "\n",
    "  print(f\"Loaded dataset with {len(data)} samples\")\n",
    "\n",
    "  # Convert to NumPy array\n",
    "  data = numpy.array(data).T  # shape: (features+1, N)\n",
    "\n",
    "  # Get the input (data samples)\n",
    "  X = data[:-1, :]  # exclude last row (targets)\n",
    "\n",
    "  # Insert bias neuron (add a row of ones) to the input\n",
    "  bias = numpy.ones((1, X.shape[1]))\n",
    "  X = numpy.vstack((X, bias))  # shape: (D+1, N)\n",
    "\n",
    "  if dataset_file == \"winequality-red.csv\":\n",
    "    # target is in the last column and needs to be converted into one-hot format\n",
    "    raw_targets = data[-1, :].astype(int)  # shape: (N,)\n",
    "    class_count = 6\n",
    "    min_label = 3\n",
    "    T = numpy.zeros((class_count, X.shape[1]))\n",
    "    for i, label in enumerate(raw_targets):\n",
    "      T[label - min_label, i] = 1\n",
    "  else:\n",
    "    # target is in the last column and needs to be of type float\n",
    "    T = data[-1:, :].astype(float)  # shape: (1, N)\n",
    "\n",
    "  return X, T\n"
   ]
  },
  {
   "attachments": {},
   "cell_type": "markdown",
   "metadata": {
    "id": "15Su4txz4iQB"
   },
   "source": [
    "#### Test 1: Assert Valid Outputs\n",
    "\n",
    "\n",
    "1. For the churn data, we assure that all dimensions are correct and that class labels are in $\\{0, 1\\}$.\n",
    "\n",
    "2. For the wine dataset, we make sure that the dataset is in the correct dimensions, i.e., $\\mathbf X\\in \\mathbb R^{(D+1)\\times N}$ and $\\mathbf T \\in \\mathbb N^{O\\times N}$. We verify that each sample in $\\mathbf T$ has exactly one active class (one-hot encoding)."
   ]
  },
  {
   "cell_type": "code",
   "execution_count": 61,
   "metadata": {
    "colab": {
     "base_uri": "https://localhost:8080/"
    },
    "id": "5JsZT_cmTgBA",
    "outputId": "608efddd-199f-4988-e685-5f3796c6eee4"
   },
   "outputs": [
    {
     "name": "stdout",
     "output_type": "stream",
     "text": [
      "Loaded dataset with 3150 samples\n",
      "Loaded dataset with 1599 samples\n"
     ]
    }
   ],
   "source": [
    "# Load datasets using the dataset function\n",
    "X, T = dataset(\"churn_data.csv\", \",\")\n",
    "\n",
    "# Assert checks for the churn dataset\n",
    "assert X.shape[0] == 14, X.shape[0]\n",
    "assert T.shape[0] == 1, T.shape[0]\n",
    "assert numpy.all(T >= 0) and numpy.all(T <= 1)\n",
    "assert T.dtype == numpy.float64\n",
    "\n",
    "# Load wine dataset\n",
    "X, T = dataset(\"winequality-red.csv\", \";\")\n",
    "\n",
    "# Assert checks for the winequality-red dataset\n",
    "assert X.shape[0] == 12, X.shape[0]\n",
    "assert T.shape[0] == 6, T.shape[0]\n",
    "# assert numpy.all(T >= 0) and numpy.all(T <= 1)\n",
    "assert numpy.all(numpy.sum(T, axis=0) == 1), \"Error: Some samples are not correctly one-hot encoded!\" # ensures that each column sums to exactly 1\n",
    "assert T.dtype == numpy.float64"
   ]
  },
  {
   "attachments": {},
   "cell_type": "markdown",
   "metadata": {
    "id": "bSHMBMNN4iQB"
   },
   "source": [
    "#### Task 2.2: Split Training and Validation Data\n",
    "\n",
    "\n",
    "The data should be split into 80% for training and 20% for validation. Implement a function that takes the full dataset $(X,T)$ and returns $(X_t, T_t, X_v, T_v)$ accordingly.\n",
    "\n",
    "Write a function that splits off training and validation samples from a given dataset. **What do we need to assure before splitting?**\n"
   ]
  },
  {
   "cell_type": "code",
   "execution_count": 64,
   "metadata": {
    "id": "9bhG1l6CD4gm"
   },
   "outputs": [],
   "source": [
    "import numpy\n",
    "\n",
    "def split_training_data(X,T,train_percentage=0.8):\n",
    "\n",
    "  # Ensure the samples are shuffled before splitting\n",
    "  N = X.shape[1]  # total number of samples\n",
    "  indices = numpy.arange(N)\n",
    "  numpy.random.shuffle(indices)\n",
    "\n",
    "  # Apply the shuffle to both X and T\n",
    "  X = X[:, indices]\n",
    "  T = T[:, indices]\n",
    "\n",
    "  # Compute the split index\n",
    "  split_index = int(train_percentage * N)\n",
    "\n",
    "  # split into 80/20 training/validation\n",
    "  X_train = X[:, :split_index]\n",
    "  T_train = T[:, :split_index]\n",
    "  X_val = X[:, split_index:]\n",
    "  T_val = T[:, split_index:]\n",
    "\n",
    "\n",
    "  return X_train, T_train, X_val, T_val"
   ]
  },
  {
   "attachments": {},
   "cell_type": "markdown",
   "metadata": {
    "id": "Sk6_LL4X4iQC"
   },
   "source": [
    "#### Task 2.3: Input Data Normalization\n",
    "\n",
    "\n",
    "Since the data is in different input regimes, we want to normalize the data.\n",
    "\n",
    "Implement a function that normalizes all input data using the whitening method with given mean and standard deviation.\n",
    "$$X_{norm} = \\frac{X-\\mu}{\\sigma}$$\n",
    "Compute the mean ($\\mu$) and the standard deviation ($\\sigma$) for your dataset.\n",
    "Make sure that you handle the bias neuron $x_0$ correctly.\n",
    "Finally, normalize your input data using the implemented function.\n",
    "\n",
    "Note: Use `numpy.mean()` and `numpy.std()` with the correct dimensions."
   ]
  },
  {
   "cell_type": "code",
   "execution_count": 115,
   "metadata": {
    "id": "Eizcv6sqjpP0"
   },
   "outputs": [],
   "source": [
    "import numpy\n",
    "\n",
    "def normalize(X_train, X_val):\n",
    "  # Compute statistics (exclude bias row → last row)\n",
    "  mean = numpy.mean(X_train[:-1, :], axis=1, keepdims=True)  # shape: (D, 1)\n",
    "  std = numpy.std(X_train[:-1, :], axis=1, keepdims=True)    # shape: (D, 1)\n",
    "\n",
    "  # Ensure that the bias neuron is not normalized\n",
    "  X_train_no_bias = (X_train[:-1, :] - mean) / std\n",
    "  X_val_no_bias = (X_val[:-1, :] - mean) / std\n",
    "\n",
    "  # Re-attach the bias row (which is all ones)\n",
    "  bias_train = X_train[-1:, :]  # shape: (1, N)\n",
    "  bias_val = X_val[-1:, :]\n",
    "\n",
    "  X_train_normalize = np.vstack([X_train_no_bias, bias_train])\n",
    "  X_val_normalize = np.vstack([X_val_no_bias, bias_val])\n",
    "\n",
    "  return X_train_normalize, X_val_normalize\n",
    "\n"
   ]
  },
  {
   "attachments": {},
   "cell_type": "markdown",
   "metadata": {
    "id": "9cTqq3UnknyP"
   },
   "source": [
    "### Gradient Descent\n",
    "\n",
    "To train a two-layer multi-output regression network, we need to implement some functions.\n",
    "The network output is computed in three steps:\n",
    "\n",
    "  * Compute network activation for a batch of inputs $\\mathbf X$: $\\mathbf A = \\mathbf W^{(1)}\\mathbf X$\n",
    "  * Call the activation function element-wise: $\\mathbf H = g(\\mathbf A)$. Here, we rely on the $\\tanh$ function. Assure that the hidden neuron bias $\\mathbf H_{0,:}$ is set appropriately.\n",
    "  * Compute the logits $\\mathbf Z$ of the batch: $\\mathbf Z = \\mathbf W^{(2)}\\mathbf H$."
   ]
  },
  {
   "attachments": {},
   "cell_type": "markdown",
   "metadata": {
    "id": "Sl3UYyPmXy_2"
   },
   "source": [
    "#### Task 2.4: Activation of Output\n",
    "\n",
    "In this task, we will implement the activation functions used in binary and categorical classification:  \n",
    "\n",
    "1. Logistic Function (for Binary Classification)  \n",
    "   $$\n",
    "   \\sigma(z) = \\frac{1}{1 + e^{-z}}\n",
    "   $$\n",
    "\n",
    "2. Stable Softmax Function (for Categorical Classification)\n",
    "  $$\n",
    "   \\tilde{\\mathcal S}(z_o) = \\frac{e^{z_o - z_{max}}}{\\sum\\limits_{o'} e^{z_{o'} - z_{max}}}\n",
    "   $$"
   ]
  },
  {
   "cell_type": "code",
   "execution_count": 119,
   "metadata": {
    "id": "jpcuXTBKg115"
   },
   "outputs": [],
   "source": [
    "import numpy\n",
    "\n",
    "def logistic_function(z):\n",
    "    # Logistic sigmoid function for binary classification\n",
    "    return 1 / (1 + numpy.exp(-z))\n",
    "\n",
    "def stable_softmax(z):\n",
    "    # Stable softmax for multi-class classification\n",
    "    # z shape: (O, N), where O = number of classes, N = number of samples\n",
    "    z_max = numpy.max(z, axis=0, keepdims=True)  # max over output dimension\n",
    "    exp_z = numpy.exp(z - z_max)\n",
    "    softmax = exp_z / numpy.sum(exp_z, axis=0, keepdims=True)\n",
    "    return softmax\n"
   ]
  },
  {
   "attachments": {},
   "cell_type": "markdown",
   "metadata": {
    "id": "KMz-nSri4iQC"
   },
   "source": [
    "#### Task 2.5: Network Implementation\n",
    "\n",
    "Implement a multi-target network that computes the output matrix $\\mathbf Y$ for a given input dataset $\\mathbf X$ and given parameters $\\Theta=(\\mathbf W^{(1)}, \\mathbf W^{(2)})$ using `numpy` operations. Use $\\tanh$ as activation function between two layers.\n",
    "\n",
    "The function should return both the output $\\mathbf Y$ and the output of the hidden units $\\mathbf H$ since we will need these in gradient descent. \n",
    "When applying binary cross entropy loss, we apply the logistic function $\\sigma$ to the logits $\\mathbf Z$ before returning it.\n",
    "When applying categorical cross entropy loss, we apply stable softmax $\\tilde{\\mathcal S}$ to the logits $\\mathbf Z$ before returning it."
   ]
  },
  {
   "cell_type": "code",
   "execution_count": 121,
   "metadata": {
    "id": "6H8ZV4Qcly95"
   },
   "outputs": [],
   "source": [
    "import numpy\n",
    "\n",
    "def Network(X, Theta, loss_type='bce'):\n",
    "  W1, W2 = Theta\n",
    "\n",
    "  # compute activation\n",
    "  A = numpy.dot(W1, X)  # shape: (H, N)\n",
    "\n",
    "  # compute hidden unit output\n",
    "  H = numpy.tanh(A)     # apply tanh element-wise\n",
    "\n",
    "  # add bias neuron to hidden layer (a row of ones)\n",
    "  bias_row = np.ones((1, H.shape[1]))\n",
    "  H = numpy.vstack([H, bias_row])  # shape: (H+1, N)\n",
    "\n",
    "  # compute network output (logits)\n",
    "  Z = numpy.dot(W2, H)  # shape: (O, N)\n",
    "\n",
    "  # apply activation depending on the loss type\n",
    "  if loss_type == 'bce':\n",
    "    Y = logistic_function(Z)  # binary classification\n",
    "  elif loss_type == 'cce':\n",
    "    Y = stable_softmax(Z)     # categorical classification\n",
    "  else:\n",
    "    raise ValueError(\"Unknown loss_type. Use 'bce' or 'cce'.\")\n",
    "\n",
    "  return Y, H\n"
   ]
  },
  {
   "attachments": {},
   "cell_type": "markdown",
   "metadata": {
    "id": "Zt0CMab4_Dr5"
   },
   "source": [
    "#### Task 2.6: Loss Implementation\n",
    "\n",
    "Implement a loss function that returns the Binary Cross-Entropy (BCE) loss for binary classification and the Categorical Cross-Entropy (CCE) loss for categorical classification.\n",
    "Note that for BCE, $O=1$ so that both $\\mathbf Y\\in\\mathbb R^{O\\times N}$ and $\\mathbf T\\in\\mathbb N^{O\\times N}$ are considered as vectors.\n",
    "\n",
    "$$\n",
    "\\mathcal J^{\\mathrm{BCE}} = -\\frac{1}{N} \\left[ \\mathbf T \\log \\mathbf Y + (1 - \\mathbf T) \\log (1 - \\mathbf Y) \\right] \\vec{\\mathbf 1}_N\n",
    "$$\n",
    "\n",
    "$$\n",
    "\\mathcal J^{\\mathrm{CCE}} = -\\frac{1}{N} \\vec{\\mathbf 1}_O^T [\\mathbf T \\log \\mathbf Y] \\vec{\\mathbf 1}_N\n",
    "$$\n",
    "\n",
    "For both losses, the mathematical expressions above can be implemented much easier, by using basic `numpy` or `scipy` functionality."
   ]
  },
  {
   "cell_type": "code",
   "execution_count": 123,
   "metadata": {
    "id": "MyudNNSLqRgq"
   },
   "outputs": [],
   "source": [
    "import numpy as np\n",
    "\n",
    "def loss(Y, T, loss_type):\n",
    "  eps = 1e-12  # Small value to prevent log(0)\n",
    "\n",
    "  if loss_type == 'bce':\n",
    "    # Binary Cross Entropy: both Y and T are shape (1, N)\n",
    "    Y = numpy.clip(Y, eps, 1 - eps)\n",
    "    J = -numpy.mean(T * np.log(Y) + (1 - T) * np.log(1 - Y))\n",
    "  \n",
    "  elif loss_type == 'cce':\n",
    "    # Categorical Cross Entropy: Y and T are shape (O, N)\n",
    "    Y = numpy.clip(Y, eps, 1)  # Avoid log(0)\n",
    "    J = -numpy.sum(T * np.log(Y)) / T.shape[1]\n",
    "\n",
    "  else:\n",
    "    raise ValueError(\"Unknown loss_type. Use 'bce' or 'cce'.\")\n",
    "\n",
    "  return J\n"
   ]
  },
  {
   "attachments": {},
   "cell_type": "markdown",
   "metadata": {
    "id": "fD2srCKN_Dr5"
   },
   "source": [
    "#### Task 2.7: Gradient Implementation\n",
    "\n",
    "Implement a function that computes and returns the gradient for a given batch $(\\mathbf X, \\mathbf T)$, the given network outputs $\\mathbf Y$ and $\\mathbf H$ as well as current parameters $\\Theta=(\\mathbf W^{(1)}, \\mathbf W^{(2)})$.\n",
    "Make sure to compute the gradient with respect to both weight matrices. Remember that we have used `tanh` as the activation function between two layers.\n",
    "Implement the function using the fast version provided in the lecture and make use of `numpy` operations."
   ]
  },
  {
   "cell_type": "code",
   "execution_count": 126,
   "metadata": {
    "id": "nNpZRBrUqU5Q"
   },
   "outputs": [],
   "source": [
    "import numpy as np\n",
    "\n",
    "def gradient(X, T, Y, H, Theta):\n",
    "  W1, W2 = Theta\n",
    "  N = X.shape[1]  # Number of samples\n",
    "\n",
    "  # Derivative with respect to W2\n",
    "  dZ = (Y - T) / N        # shape: (O, N)\n",
    "  g2 = numpy.dot(dZ, H.T)    # shape: (O, H+1)\n",
    "\n",
    "  # Backprop to hidden layer\n",
    "  dH = numpy.dot(W2.T, dZ)   # shape: (H+1, N)\n",
    "\n",
    "  # Remove bias row from H and dH\n",
    "  H_no_bias = H[:-1, :]         # shape: (H, N)\n",
    "  dH_no_bias = dH[:-1, :]       # shape: (H, N)\n",
    "\n",
    "  # Derivative of tanh: 1 - tanh²(x)\n",
    "  d_activation = 1 - H_no_bias**2\n",
    "\n",
    "  # Element-wise product for chain rule\n",
    "  dA = dH_no_bias * d_activation  # shape: (H, N)\n",
    "\n",
    "  g1 = numpy.dot(dA, X.T)           # shape: (H, D+1)\n",
    "\n",
    "  return g1, g2\n",
    "\n"
   ]
  },
  {
   "attachments": {},
   "cell_type": "markdown",
   "metadata": {
    "id": "iQ5re_EW4iQD"
   },
   "source": [
    "#### Task 2.8: Accuracy Computation\n",
    "\n",
    "\n",
    "Implement a function that computes the accuracy of the provided network output and the given target values.\n",
    "Make sure that the implementation supports both binary as well as categorical targets."
   ]
  },
  {
   "cell_type": "code",
   "execution_count": 128,
   "metadata": {
    "id": "eDOQJPo3FLX4"
   },
   "outputs": [],
   "source": [
    "import numpy\n",
    "\n",
    "def accuracy(Y, T):\n",
    "  # check if we have binary or categorical classification\n",
    "  if Y.shape[0] == 1:\n",
    "    # binary classification\n",
    "    predictions = (Y > 0.5).astype(int)  # threshold at 0.5\n",
    "    correct = (predictions == T).sum()\n",
    "    total = T.shape[1]\n",
    "    return correct / total\n",
    "  else:\n",
    "    # categorical classification\n",
    "    predictions = numpy.argmax(Y, axis=0)  # index of max logit/prob\n",
    "    targets = numpy.argmax(T, axis=0)      # one-hot to class index\n",
    "    correct = (predictions == targets).sum()\n",
    "    total = T.shape[1]\n",
    "    return correct / total\n"
   ]
  },
  {
   "attachments": {},
   "cell_type": "markdown",
   "metadata": {
    "id": "qXZnMJ6O4iQD"
   },
   "source": [
    "#### Test 2: Test Accuracy Function\n",
    "\n",
    "\n",
    "Design test data and according logit values with which you can test the correctness of your accuracy function.\n",
    "Make sure that the accuracy will compute the correct values.\n",
    "Test both binary and categorical accuracy."
   ]
  },
  {
   "cell_type": "code",
   "execution_count": 130,
   "metadata": {
    "id": "T6oj8z3a4iQD"
   },
   "outputs": [],
   "source": [
    "# first, test binary classification\n",
    "YY = numpy.ones((1,20)) * -5.\n",
    "YY[0][15:20] = 5\n",
    "assert(abs(accuracy(YY,numpy.zeros((1,20))) - 0.75) < 1e-8)\n",
    "assert(abs(accuracy(YY,numpy.ones((1,20))) - 0.25) < 1e-8)\n",
    "\n",
    "# now, test categorical classification with 4 classes\n",
    "YY = numpy.ones((4, 20)) * -5  # Shape (C, N) to match function expectations\n",
    "YY[0, 0:1] = 5\n",
    "YY[1, 1:4] = 5\n",
    "YY[2, 4:10] = 5\n",
    "YY[3, 10:20] = 5\n",
    "# Modify YY and T to be one-hot encoded\n",
    "T0 = numpy.eye(4)[numpy.zeros(20, dtype=int)].T\n",
    "T1 = numpy.eye(4)[numpy.ones(20, dtype=int)].T\n",
    "T2 = numpy.eye(4)[numpy.ones(20, dtype=int) * 2].T\n",
    "T3 = numpy.eye(4)[numpy.ones(20, dtype=int) * 3].T\n",
    "T4 = numpy.eye(4)[numpy.array([0, 1, 1, 1, 2, 2, 2, 2, 2, 2, 3, 3, 3, 3, 3, 3, 3, 3, 3, 3])].T\n",
    "\n",
    "# Assertions with modified inputs\n",
    "assert abs(accuracy(YY, T0) - 0.05) < 1e-8\n",
    "assert abs(accuracy(YY, T1) - 0.15) < 1e-8\n",
    "assert abs(accuracy(YY, T2) - 0.3) < 1e-8\n",
    "assert abs(accuracy(YY, T3) - 0.5) < 1e-8\n",
    "assert abs(accuracy(YY, T4) - 1.0) < 1e-8"
   ]
  },
  {
   "attachments": {},
   "cell_type": "markdown",
   "metadata": {
    "id": "yBC2C6sy4iQD"
   },
   "source": [
    "#### Task 2.9: Training Loop\n",
    "\n",
    "\n",
    "Implement gradient descent for a given number of 10'000 epochs using given input data, initial parameters $\\Theta$, loss_type, number of epochs, as well as a learning rate of $\\eta=0.1$.\n",
    "\n",
    "Make use of the normalized dataset from Task 2.3, the network from Task 2.5, the loss from Task 2.6, the gradient from Task 2.7, and the accuracy function from Task 2.8.\n",
    "\n",
    "Make sure that you train on the training data only, and not on the validation data.\n",
    "In each loop, compute and store the training loss, training accuracy, validation loss and validation accuracy.\n",
    "At the end, return the lists of these values.\n"
   ]
  },
  {
   "cell_type": "code",
   "execution_count": 133,
   "metadata": {
    "id": "LOhA6w23qnaK"
   },
   "outputs": [],
   "source": [
    "def train(X_train, T_train, X_val, T_val, Theta, loss_type='bce', epochs=10000, learning_rate=0.1):\n",
    "  W1, W2 = Theta\n",
    "\n",
    "  # collect loss and accuracy values\n",
    "  train_loss, train_acc, val_loss, val_acc = [], [], [], []\n",
    "\n",
    "  for epoch in range(epochs):\n",
    "    # --- Train on training set ---\n",
    "    # compute network output and hidden layer\n",
    "    Y_train, H_train = Network(X_train, (W1, W2), loss_type)\n",
    "    # compute loss\n",
    "    L_train = loss(Y_train, T_train, loss_type)\n",
    "    # compute gradients\n",
    "    g1, g2 = gradient(X_train, T_train, Y_train, H_train, (W1, W2))\n",
    "    # gradient descent step\n",
    "    W1 -= learning_rate * g1\n",
    "    W2 -= learning_rate * g2\n",
    "    # remember training loss and accuracy\n",
    "    train_loss.append(L_train)\n",
    "    train_acc.append(accuracy(Y_train, T_train))\n",
    "\n",
    "    # --- Validate on validation set ---\n",
    "    Y_val, _ = Network(X_val, (W1, W2), loss_type)\n",
    "    L_val = loss(Y_val, T_val, loss_type)\n",
    "    val_loss.append(L_val)\n",
    "    val_acc.append(accuracy(Y_val, T_val))\n",
    "\n",
    "  # return the four lists of losses and accuracies\n",
    "  return train_loss, train_acc, val_loss, val_acc\n"
   ]
  },
  {
   "attachments": {},
   "cell_type": "markdown",
   "metadata": {
    "id": "tU_LUDM14iQD"
   },
   "source": [
    "#### Task 2.10: Plotting Function\n",
    "\n",
    "\n",
    "Implement a function that takes four lists containing the training loss, the training accuracy, the validation loss and the validation accuracy.\n",
    "Plot the two losses into one plot, and the two accuracies into another plot."
   ]
  },
  {
   "cell_type": "code",
   "execution_count": 135,
   "metadata": {
    "id": "_fIVZsZvsryb"
   },
   "outputs": [],
   "source": [
    "from matplotlib import pyplot as plt\n",
    "\n",
    "def plot(train_loss, train_acc, val_loss, val_acc):\n",
    "  plt.figure(figsize=(10, 3))\n",
    "\n",
    "  # Plot losses\n",
    "  ax = plt.subplot(121)\n",
    "  ax.plot(train_loss, \"g-\", label=\"Training set loss\")\n",
    "  ax.plot(val_loss, \"b-\", label=\"Validation set loss\")\n",
    "  ax.set_xlabel(\"Epoch\")\n",
    "  ax.set_ylabel(\"Loss\")\n",
    "  ax.set_title(\"Loss over Epochs\")\n",
    "  ax.legend()\n",
    "\n",
    "  # Plot accuracies\n",
    "  ax = plt.subplot(122)\n",
    "  ax.plot(train_acc, \"g-\", label=\"Training set accuracy\")\n",
    "  ax.plot(val_acc, \"b-\", label=\"Validation set accuracy\")\n",
    "  ax.set_xlabel(\"Epoch\")\n",
    "  ax.set_ylabel(\"Accuracy\")\n",
    "  ax.set_title(\"Accuracy over Epochs\")\n",
    "  ax.legend()\n",
    "\n",
    "  plt.tight_layout()\n",
    "  plt.show()\n"
   ]
  },
  {
   "attachments": {},
   "cell_type": "markdown",
   "metadata": {
    "id": "I0A03pI84iQE"
   },
   "source": [
    "#### Task 2.11: Binary Classification\n",
    "\n",
    "\n",
    "1. Load the data for binary classification, using the ``\"churn_data.csv\"`` file.\n",
    "2. Split the data into training and validation sets.\n",
    "3. Normalize both training and validation input data using the function from Task 2.3.\n",
    "4. Instantiate the weight matrices $\\Theta=(\\mathbf W^{(1)}, \\mathbf W^{(2)})$ using the Xavier method as introduced in the lecture\n",
    "5. Train the network on the churn data with the learning rate of **$\\eta=0.1$** for 10'000 epochs and plot the training and validation accuracies and losses.\n",
    "\n"
   ]
  },
  {
   "cell_type": "code",
   "execution_count": 137,
   "metadata": {
    "id": "6dQdkFKStw2g"
   },
   "outputs": [
    {
     "name": "stdout",
     "output_type": "stream",
     "text": [
      "Loaded dataset with 3150 samples\n"
     ]
    },
    {
     "data": {
      "image/png": "[encoded data removed]",
      "text/plain": [
       "<Figure size 1000x300 with 2 Axes>"
      ]
     },
     "metadata": {},
     "output_type": "display_data"
    }
   ],
   "source": [
    "# Step 1: Load dataset\n",
    "X, T = dataset(\"churn_data.csv\", delimiter=\",\")\n",
    "\n",
    "# Step 2: Split dataset\n",
    "X_train, T_train, X_val, T_val = split_training_data(X, T, train_percentage=0.8)\n",
    "\n",
    "# Step 3: Normalize input data\n",
    "X_train, X_val = normalize(X_train, X_val)\n",
    "\n",
    "# Step 4: Xavier Initialization of weights\n",
    "K = 10                    # hidden layer size\n",
    "D = X_train.shape[0] - 1  # input dimension (excluding bias)\n",
    "O = 1                     # binary classification → 1 output\n",
    "\n",
    "W1 = numpy.random.randn(K, D + 1) / np.sqrt(D + 1)\n",
    "W2 = numpy.random.randn(O, K + 1) / np.sqrt(K + 1)\n",
    "\n",
    "Theta = [W1, W2]\n",
    "\n",
    "# Step 5: Train the network and collect results\n",
    "results = train(\n",
    "    X_train, T_train, X_val, T_val,\n",
    "    Theta, loss_type='bce',\n",
    "    epochs=10000, learning_rate=0.1\n",
    ")\n",
    "\n",
    "# Step 6: Plot results\n",
    "plot(*results)\n"
   ]
  },
  {
   "attachments": {},
   "cell_type": "markdown",
   "metadata": {
    "id": "UtB7EEI14iQE"
   },
   "source": [
    "#### Task 2.12: Categorical Classification\n",
    "\n",
    "\n",
    "1. Load the data for categorical classification, using the ``\"winequality-red.csv\"`` file.\n",
    "2. Split the data into training and validation sets.\n",
    "3. Normalize both training and validation input data using the function from Task 2.3.\n",
    "4. **How many input and output neurons do we need?** Change the number of input, hidden, and output neurons accordingly. Select an appropriate number of hidden neurons $K$.\n",
    "5. Instantiate the weight matrices $\\Theta=(\\mathbf W^{(1)}, \\mathbf W^{(2)})$ using the Xavier method as introduced in the lecture\n",
    "6. Train the network on the winequality-red dataset with the learning rate of **$\\eta=0.1$** for 10'000 epochs and plot the training and validation accuracies and losses.\n",
    "\n"
   ]
  },
  {
   "cell_type": "code",
   "execution_count": 145,
   "metadata": {
    "id": "oBADNP7Muif5"
   },
   "outputs": [
    {
     "name": "stdout",
     "output_type": "stream",
     "text": [
      "Loaded dataset with 1599 samples\n"
     ]
    },
    {
     "data": {
      "image/png": "[encoded data removed]",
      "text/plain": [
       "<Figure size 1000x300 with 2 Axes>"
      ]
     },
     "metadata": {},
     "output_type": "display_data"
    }
   ],
   "source": [
    "# Step 1: Load dataset\n",
    "X, T = dataset(\"winequality-red.csv\", delimiter=\";\")\n",
    "\n",
    "# Step 2: Split dataset\n",
    "X_train, T_train, X_val, T_val = split_training_data(X, T, train_percentage=0.8)\n",
    "\n",
    "# Step 3: Normalize input data\n",
    "X_train, X_val = normalize(X_train, X_val)\n",
    "\n",
    "# Step 4: Define architecture\n",
    "D = X_train.shape[0] - 1  # Input dimension (excluding bias)\n",
    "K = 20                  # Hidden layer size (tunable)\n",
    "O = T.shape[0]           # Output dimension = number of classes = 6\n",
    "\n",
    "# Step 5: Xavier Initialization\n",
    "W1 = numpy.random.randn(K, D + 1) / np.sqrt(D + 1)\n",
    "W2 = numpy.random.randn(O, K + 1) / np.sqrt(K + 1)\n",
    "\n",
    "Theta = [W1, W2]\n",
    "\n",
    "# Step 6: Train the network\n",
    "results = train(\n",
    "    X_train, T_train, X_val, T_val,\n",
    "    Theta, loss_type='cce',\n",
    "    epochs=10000, learning_rate=0.1\n",
    ")\n",
    "\n",
    "# Step 7: Plot the results\n",
    "plot(*results)\n"
   ]
  },
  {
   "cell_type": "code",
   "execution_count": null,
   "metadata": {},
   "outputs": [],
   "source": []
  }
 ],
 "metadata": {
  "colab": {
   "provenance": []
  },
  "kernelspec": {
   "display_name": "Python [conda env:base] *",
   "language": "python",
   "name": "conda-base-py"
  },
  "language_info": {
   "codemirror_mode": {
    "name": "ipython",
    "version": 3
   },
   "file_extension": ".py",
   "mimetype": "text/x-python",
   "name": "python",
   "nbconvert_exporter": "python",
   "pygments_lexer": "ipython3",
   "version": "3.12.7"
  }
 },
 "nbformat": 4,
 "nbformat_minor": 4
}
