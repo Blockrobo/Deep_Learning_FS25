{
 "cells": [
  {
   "cell_type": "markdown",
   "metadata": {},
   "source": [
    "### Group Members:\n",
    "\n",
    "- Honegger Roberto, 16-715-419\n"
   ]
  },
  {
   "attachments": {},
   "cell_type": "markdown",
   "metadata": {
    "id": "ZmubxigEE-Zb"
   },
   "source": [
    "# Assignment 1: Universal Function Approximator\n",
    "\n",
    "\n",
    "The goal of this exercise is to compare three different neural network architectures and analyze their capacity for function approximation:\n",
    "\n",
    "1. $N_1$: One-layer network (linear transformation only)\n",
    "2. $N_2$: One-layer network with non-linear activation function\n",
    "3. $N_3$: Two-layer network (hidden layer with non-linear activation function)\n",
    "\n",
    "They will be trained via gradient descent (with weight decay). To show the flexibility of the approach, three different functions will be approximated:\n",
    "1. $X_1: t = \\cos(3x)$ for $x\\in[-2,2]$\n",
    "2. $X_2: t = e^{-x^2}$ for $x\\in[-1,1]$\n",
    "3. $X_3: t = x^5 + 3x^4 - 6x^3 -12x^2 + 5x + 129$ for $x\\in[-4,2.5]$\n",
    "\n",
    "In the theoretical section, the networks will be designed, and the necessary derivatives will be computed by hand.\n",
    "\n",
    "In the coding section, we will: \n",
    "\n",
    "- implement the networks and their gradients,\n",
    "- generate target data for three different functions, \n",
    "- apply the training procedure to the data, and \n",
    "- plot the resulting approximated function together with the data samples."
   ]
  },
  {
   "attachments": {},
   "cell_type": "markdown",
   "metadata": {
    "id": "n36PMmPANmJ7"
   },
   "source": [
    "## Section 1: Theoretical Questions"
   ]
  },
  {
   "attachments": {},
   "cell_type": "markdown",
   "metadata": {
    "id": "oXFApo7obLKe"
   },
   "source": [
    "### Network Design"
   ]
  },
  {
   "attachments": {},
   "cell_type": "markdown",
   "metadata": {
    "id": "FH8oL0-MQ0IY"
   },
   "source": [
    "#### Task 1.1: Network Structure\n",
    "\n",
    "Given input $\\vec x = (1, x)^T$, define three neural networks ($N_1$, $N_2$, $N_3$) mathematically, to reach output $y$. Use $g()$ to represent the activation function.\n",
    "\n",
    "Explain how their structures differ and analyze their function approximation capabilities.\n",
    "\n",
    "--- \n",
    "Note:\n",
    "\n",
    "For one-layer networks, define parameter $\\Theta=\\vec w \\in\\mathbb R^{D+1}$\n",
    "\n",
    "For two-layer network, define parameters $\\Theta=(\\mathbf W^{(1)},\\vec w^{(2)})$ that are split into $\\mathbf W^{(1)}\\in\\mathbb R^{K\\times {(D+1)}}$ for the first layer and $\\vec w^{(2)}\\in\\mathbb R^{K+1}$ for the second layer"
   ]
  },
  {
   "attachments": {},
   "cell_type": "markdown",
   "metadata": {
    "id": "kujWaTnHTEnk"
   },
   "source": [
    "#### Answer 1.1\n",
    "\n",
    "### $N_1$: One-Layer Network (Linear Transformation Only)\n",
    "\n",
    "**Parameters:**  \n",
    "Weight vector as  \n",
    "$\\vec{w} = \\begin{pmatrix} w_0 \\\\ w_1 \\end{pmatrix} \\in \\mathbb{R}^{2}.$\n",
    "\n",
    "**Mapping:**  \n",
    "Computed by the dot product of  \n",
    "$y = \\vec{w}^T \\vec{x} = w_0 + w_1 x.$\n",
    "\n",
    "**Function Approximation Capability:**  \n",
    "Since this model is linear and can only represent straight-line functions, it is limited in its ability to capture non-linear behaviors (e.g., in $\\cos(3x)$ or $e^{-x^2}$).\n",
    "\n",
    "---\n",
    "\n",
    "### $N_2$: One-Layer Network with Non-Linear Activation\n",
    "\n",
    "**Parameters:**  \n",
    "Same weight vector as in $N_1$:\n",
    "$\\vec{w} = \\begin{pmatrix} w_0 \\\\ w_1 \\end{pmatrix} \\in \\mathbb{R}^{2}.$\n",
    "\n",
    "**Mapping:**  \n",
    "1. Linear combination:\n",
    "   $a = w_0 + w_1 x.$  \n",
    "2. Then apply a non-linear activation function $g(\\cdot)$:\n",
    "   $y = g(a) = g(w_0 + w_1 x).$  \n",
    "\n",
    "The output becomes a non-linear transformation of the input.\n",
    "\n",
    "**Function Approximation Capability:**  \n",
    "The introduction of the non-linearity allows the network to model curved relationships. However, with only one non-linear unit, the model's flexibility is still somewhat limited.\n",
    "\n",
    "---\n",
    "\n",
    "### $N_3$: Two-Layer Network (Hidden Layer with Non-Linear Activation)\n",
    "\n",
    "**Parameters:**  \n",
    "- **First Layer:**  \n",
    "  Define the weight matrix for the hidden layer:\n",
    "  $\\mathbf{W}^{(1)} \\in \\mathbb{R}^{K \\times 2},$\n",
    "  which maps the input $\\vec{x}$ to $K$ hidden neurons.\n",
    "  \n",
    "- **Second Layer:**  \n",
    "  Define the weight vector for the output layer:\n",
    "  $\\vec{w}^{(2)} \\in \\mathbb{R}^{K+1},$\n",
    "  where the extra component accounts for the bias in the output layer.\n",
    "\n",
    "**Mapping:**  \n",
    "\n",
    "1. **Hidden Layer:**  \n",
    "   - Compute the pre-activation for each hidden neuron:\n",
    "     $a_k = \\bigl(\\mathbf{W}^{(1)} \\vec{x}\\bigr)_k,\\quad k = 1, \\dots, K.$  \n",
    "   - Apply the activation function element-wise:\n",
    "     $h_k = g(a_k).$  \n",
    "   - Augment the hidden layer output with a bias term:\n",
    "     $\\vec{h}_{\\text{aug}} = \\begin{pmatrix} 1 \\\\ h_1 \\\\ \\vdots \\\\ h_K \\end{pmatrix}.$\n",
    "\n",
    "2. **Output Layer:**  \n",
    "   - Compute the final output as:\n",
    "     $y = \\bigl(\\vec{w}^{(2)}\\bigr)^T \\vec{h}_{\\text{aug}} = w_0^{(2)} + \\sum_{k=1}^{K} w_k^{(2)} h_k.$\n",
    "\n",
    "**Function Approximation Capability:**  \n",
    "With a hidden layer that employs non-linear activations, $N_3$ is capable of approximating complex, non-linear functions. According to the Universal Approximation Theorem, a two-layer network with a sufficient number of hidden neurons can approximate any continuous function on a compact set, making it the most flexible among the three architectures.\n"
   ]
  },
  {
   "attachments": {},
   "cell_type": "markdown",
   "metadata": {
    "id": "eSm46qR8SdQH"
   },
   "source": [
    "#### Task 1.2: Network Comparison\n",
    "\n",
    "Can the one-layer network approximate all three functions well? Why or why not?\n",
    "\n",
    "What advantages does the two-layer network have compared to a one-layer network?\n",
    "\n",
    "How can we determine the appropriate number of hidden neurons?\n",
    "When looking at the example plots in the OLAT, how many hidden neurons do we need in order to approximate the functions? Is there any difference between the three target functions?\n",
    "\n"
   ]
  },
  {
   "attachments": {},
   "cell_type": "markdown",
   "metadata": {
    "id": "N_ZK0aMfafSP"
   },
   "source": [
    "#### Answer 1.2:\n",
    "\n",
    "##### 1. Can the one-layer network approximate all three functions well?\n",
    "\n",
    "A one-layer network (with only a linear transformation, $y = w_0 + w_1 x$) can only modelstraight-line functions. None of the target functions are linear:\n",
    "- **$X_1: t = \\cos(3x)$** is oscillatory and therefore periodic.\n",
    "- **$X_2: t = e^{-x^2}$** is a bell-shaped.\n",
    "- **$X_3: t = x^5 + 3x^4 - 6x^3 - 12x^2 + 5x + 129$** is not linear at all.\n",
    "\n",
    "Because a one-layer (purely linear) model cannot follow changing slopes, it will generally **underfit** these functions. In other words, it cannot capture the oscillations, the peaked shape, or the complex curvature required to closely follow the target functions.\n",
    "\n",
    "---\n",
    "\n",
    "##### 2. What advantages does the two-layer network have compared to a one-layer network?\n",
    "\n",
    "A two-layer network (i.e., a network with one hidden layer that uses a non-linear activation) offers significant advantages:\n",
    "- **Non-Linearity & Flexibility:**  \n",
    "  The hidden layer applies a non-linear activation function (e.g., sigmoid) to the weighted inputs. This non-linearity allows the network to create complex combinations of basis functions. As a result, it might is able to capture curves and oscillations that a simple linear model cannot.\n",
    "  \n",
    "- **Universal Approximation:**  \n",
    "  The Universal Approximation Theorem tells us that with a high enough number of hidden neurons, a two-layer network can approximate any continuous function on a compact interval arbitrarily well. This is way more powerful than a one-layer network. \n",
    "  \n",
    "- **Intermediate Representations:**  \n",
    "  The hidden layer can learn intermediate features or representations of the input. These features, when linearly combined in the output layer, yield a non-linear overall mapping from $x$ to $y$.\n",
    "\n",
    "---\n",
    "\n",
    "##### 3. How can we determine the appropriate number of hidden neurons?\n",
    "\n",
    "###### **General Considerations:**\n",
    "- **Empirical Tuning:**  \n",
    " Typically chosen by experimenting with different sizes and selecting the one that best balances the trade-off between underfitting (too few neurons) and overfitting (too many neurons).\n",
    "  \n",
    "- **Validation Performance:**  \n",
    "  WE can train the network with various numbers of hidden neurons and compare the approximation error on a validation set. A plateau or a minimal validation error suggests an appropriate network size.\n",
    "\n",
    "##### **Based on the Example Plots in OLAT:**\n",
    "- For **$X_1: \\cos(3x)$** and **$X_2: t = e^{-x^2}$**, the sample plots often indicate that a small number (e.g., around 3 to 4 hidden neurons) is sufficient to capture the main non-linear behavior.\n",
    "- For **$X_3: t = x^5 + 3x^4 - 6x^3 - 12x^2 + 5x + 129$**, the function is more complex. The plots suggest that slightly more neurons (perhaps 4 to 5 hidden units) might be necessary to adequately approximate the function.\n",
    "- \n",
    "- **Differences Between the Functions:**  \n",
    "  While all three functions are non-linear, their complexity differs. The cosine and exponential functions have smooth, regular shapes that can be approximated well with fewer neurons. In contrast, the polynomial, because of its higher degree and more variable curvature over the interval, may require a marginally higher number of neurons.\n",
    "\n",
    "\n"
   ]
  },
  {
   "attachments": {},
   "cell_type": "markdown",
   "metadata": {
    "id": "ki1cAn6zSvj2",
    "jp-MarkdownHeadingCollapsed": true
   },
   "source": [
    "#### Task 1.3: Network Performance\n",
    "\n",
    "If the network struggles to approximate a function well, what are some possible reasons?\n",
    "\n",
    "How can we improve the network's performance?\n"
   ]
  },
  {
   "attachments": {},
   "cell_type": "markdown",
   "metadata": {
    "id": "DP60Na-kbF_1",
    "jp-MarkdownHeadingCollapsed": true
   },
   "source": [
    "#### Answer 1.3:\n",
    "\n",
    "Several factors might be involved when a network struggles to approximate a function. Here some reasons & potential solutions:\n",
    "\n",
    "---\n",
    "\n",
    "##### Reasons\n",
    "\n",
    "- **Insufficient Model Capacity:**  \n",
    "  The network might be too simple—e.g., having too few hidden neurons or layers—to capture the complexity of the target function. For non-linear functions like \\(\\cos(3x)\\) or a high-degree polynomial, a single-layer network is usually inadequate.\n",
    "\n",
    "- **Wrong Activation Functions:**  \n",
    "  If the chosen activation functions (like the sigmoid) saturate (i.e., their outputs are near 0 or 1 for a wide range of inputs), the gradients can vanish. This slows down learning or may even halt it altogether.\n",
    "\n",
    "- **Bad Weight Initialization:**  \n",
    "  If weights are initialized too high or too low, the network might start in a region of the loss surface where gradients are very small or erratic, making learning inefficient.\n",
    "\n",
    "- **Suboptimal Learning Rate:**  \n",
    "  A learning rate that is too high can cause the training process to overshoot minima and diverge, while a learning rate that is too low can result in very slow convergence.\n",
    "\n",
    "- **Problem with the Data:**  \n",
    "  Unnormalized or poorly scaled input data can hinder training. If the range of input values is too wide, some neurons might saturate or dominate the learning process.\n",
    "\n",
    "- **Not enough Training Data or poor Training:**  \n",
    "  The network may not have been trained on enough samples or for enough iterations, resulting in an incomplete learning process.\n",
    "\n",
    "- **Overfitting/Underfitting:**  \n",
    "  Depending on the network design and the complexity of the function, the model may underfit (if it is too simple) or overfit (if it memorizes noise rather than learning the underlying function).\n",
    "\n",
    "---\n",
    "\n",
    "##### Solutions\n",
    "\n",
    "- **Increase Model Capacity:**  \n",
    "  Add more hidden neurons or layers. A deeper network or one with more neurons in the hidden layer(s) can capture more complex patterns.\n",
    "\n",
    "- **Explore more with Activation Functions:**  \n",
    "  Consider using activation functions like ReLU or tanh, which may provide better gradient flow and less saturation than the sigmoid function.\n",
    "\n",
    "- **Improve Weight Initialization:**  \n",
    "  Utilize methods such as Xavier/Glorot initialization to start with weights that are neither too high nor too low, which helps maintain a good gradient scale during training.\n",
    "\n",
    "- **Tune the Learning Rate:**  \n",
    "  Adjust the learning rate to an optimal value; sometimes using a learning rate schedule or an adaptive method (e.g., Adam, RMSProp) can help, although in this assignment gradient descent with weight decay is used.\n",
    "\n",
    "- **Normalize the Data:**  \n",
    "  Standardize or normalize inputs (and even target outputs) so that all features contribute similarly to the learning process. This helps prevent certain neurons from saturating and improves overall training dynamics.\n",
    "\n",
    "- **Apply Regularization:**  \n",
    "  Use weight decay (already in the assignment) or consider other methods like dropout to prevent overfitting if the network is too complex relative to the amount of data.\n",
    "\n",
    "- **Increase Training Duration:**  \n",
    "  Train the network for more epochs or iterations. Sometimes the network simply needs more time to converge to a good solution.\n",
    "\n",
    "- **Monitor and Adjust:**  \n",
    "  Use validation data to monitor the network’s performance during training. Adjust hyperparameters such as the learning rate, momentum (if applicable), and network size based on validation performance.\n",
    "\n"
   ]
  },
  {
   "attachments": {},
   "cell_type": "markdown",
   "metadata": {
    "id": "UPUvWGhybtv9"
   },
   "source": [
    "### Derivatives"
   ]
  },
  {
   "attachments": {},
   "cell_type": "markdown",
   "metadata": {
    "id": "F9ibD4zrPOvE",
    "jp-MarkdownHeadingCollapsed": true
   },
   "source": [
    "#### Task 1.4: Activation Function\n",
    "\n",
    "Given the hyperbolic tangent ($\\tanh$) activation function as:\n",
    "\n",
    "$$\\tanh(x) = \\frac{e^x - e^{-x}}{e^x + e^{-x}}$$\n",
    "\n",
    "Prove:\n",
    "\n",
    "$$\\frac{\\partial}{\\partial x} \\tanh(x) = 1 - \\tanh^2(x)$$\n",
    "\n",
    "Hint: Apply the derivative rules as defined in the Lecture:\n",
    "* Quotient rule\n",
    "* Sum rule\n",
    "* Exponential rule\n",
    "\n",
    "Also, avoid factoring out parentheses."
   ]
  },
  {
   "attachments": {},
   "cell_type": "markdown",
   "metadata": {
    "id": "TW6QrQKPUffH"
   },
   "source": [
    "#### Answer 1.4:\n",
    "\n",
    "$\\frac{\\partial}{\\partial x} \\tanh(x) =...$\n",
    "\n",
    "$$\n",
    "\\tanh(x) = \\frac{e^x - e^{-x}}{e^x + e^{-x}},\n",
    "$$\n",
    "\n",
    "\n",
    "\n",
    "\n"
   ]
  },
  {
   "attachments": {},
   "cell_type": "markdown",
   "metadata": {
    "id": "mC041GO7PzIP"
   },
   "source": [
    "#### Task 1.5: Weight Decay\n",
    "\n",
    "Consider a loss function with L2 regularization (weight decay):\n",
    "$$\n",
    "L'(\\theta) = L(\\theta) + \\frac{\\lambda}{2} \\|\\theta\\|^2\n",
    "$$\n",
    "\n",
    "Compute its derivative with respect to $\\theta$: $$\\frac{\\partial}{\\partial \\theta} L'(\\theta)$$\n"
   ]
  },
  {
   "attachments": {},
   "cell_type": "markdown",
   "metadata": {
    "id": "2o4IjaZ4VimR"
   },
   "source": [
    "#### Answer 1.5:\n",
    "\n",
    "\n"
   ]
  },
  {
   "attachments": {},
   "cell_type": "markdown",
   "metadata": {
    "id": "aOiw6bNJQG5E",
    "jp-MarkdownHeadingCollapsed": true
   },
   "source": [
    "#### Task 1.6\n",
    "\n",
    "How large should an appropriate weight decay parameter $\\lambda$ as shown in Task 1.5 be? What would happen if $\\lambda$ is set too high or too low?"
   ]
  },
  {
   "attachments": {},
   "cell_type": "markdown",
   "metadata": {
    "id": "vErgVANhV9cu",
    "jp-MarkdownHeadingCollapsed": true
   },
   "source": [
    "#### Answer 1.6: \n",
    "\n",
    "Through expirementation you can determine an appropriate $\\lambda$. \n",
    "\n",
    "\n",
    "- **If $\\lambda$ is too high:**  \n",
    "  - The regularization term \\(\\lambda \\|\\theta\\|^2\\) will dominate the loss.\n",
    "  - The network will be forced to keep the weights very small, which can severely limit its capacity to learn the underlying patterns.\n",
    "  - This usually leads to **underfitting**, where the model is too simple to capture the complexity of the data.\n",
    "\n",
    "- **If $\\lambda$ is too low:**  \n",
    "  - The regularization effect becomes negligible.\n",
    "  - The network may then use large weights to fit the training data very closely.\n",
    "  - This increases the risk of **overfitting**, where the model captures noise in the training data and performs poorly on unseen data.\n",
    "\n",
    "So if Landa is too high the model underfits and if it's too low the model overfits. The optimal value depends on different factos like the data, complexity, model. etc. "
   ]
  },
  {
   "attachments": {},
   "cell_type": "markdown",
   "metadata": {
    "id": "SY8F0hc3Ttyn"
   },
   "source": [
    "## Section 2: Coding\n",
    "\n",
    "**<font color='red' size='5'>This section has to be submitted by 11:59 p.m. on Wednesday, March 12th, to be graded.</font>**\n",
    "\n"
   ]
  },
  {
   "attachments": {},
   "cell_type": "markdown",
   "metadata": {
    "id": "pLvRiQ-6NRB8"
   },
   "source": [
    "### Network Implementation\n",
    "#### Task 2.1\n",
    "\n",
    "Recall that for one-layer networks, we define parameter $\\Theta=\\vec w \\in\\mathbb R^{D+1}$, and for a two-layer network, we define parameters $\\Theta=(\\mathbf W^{(1)}\\in\\mathbb R^{K\\times {(D+1)}},\\vec w^{(2)}\\in\\mathbb R^{K+1})$.\n",
    "\n",
    "- D: The dimension of the input. In this assignment, $D = 1$ since there is only one input.\n",
    "- K: The number of hidden neurons in the first layer of the two-layer network ($N_3$)\n",
    "\n",
    "Implement a function that returns the network output for a given input $\\vec x$, parameter(s) $\\Theta$, and model_type ($N_1$, $N_2$, or $N_3$). Remember that the input of the function $\\vec x = (1, x)^T$.\n",
    "\n",
    "---\n",
    "Note:\n",
    "\n",
    "1. Use the `numpy` to implement the $\\tanh$ function.\n",
    "2. Use `numpy.concatenate` or `numpy.insert` to prepend $h_0$.\n",
    "3. Make use of `numpy.dot` to compute matrix-vector and vector-vector products."
   ]
  },
  {
   "cell_type": "code",
   "execution_count": 37,
   "metadata": {
    "id": "4XOSElIwJ5BB"
   },
   "outputs": [],
   "source": [
    "import numpy\n",
    "\n",
    "def network(x, Theta, model_type):\n",
    "    \"\"\"\n",
    "    Compute the output of a neural network model.\n",
    "\n",
    "    Args:\n",
    "        x: Input vector (1, x) including bias.\n",
    "        Theta: Tuple of network parameters (W1, w2).\n",
    "        model_type: Type of model (1, 2, or 3).\n",
    "\n",
    "    Returns:\n",
    "        y: Network output.\n",
    "        h: Hidden layer output, or None.\n",
    "    \"\"\"\n",
    "\n",
    "    W1, w2 = Theta  # w2 is None if model_type is 1 or 2\n",
    "\n",
    "    if model_type == 1:\n",
    "        # One-layer network (Linear Model)\n",
    "        y = numpy.dot(W1, x)\n",
    "        return y, None # To make this consistent when model_type is 3\n",
    "\n",
    "    elif model_type == 2:\n",
    "        # One-layer network with tanh activation\n",
    "        a = numpy.dot(W1, x)\n",
    "        y = numpy.tanh(a)\n",
    "        return y, None # To make this consistent when model_type is 3\n",
    "\n",
    "    elif model_type == 3:\n",
    "        # Two-layer network with tanh activation.\n",
    "        a_ = numpy.dot(W1, x)  # a_ will have shape (K,), where K is the number of hidden neurons.\n",
    "        h_ = numpy.tanh(a_)\n",
    "        h = numpy.concatenate(([1], h_))  # h now has shape (K+1,)\n",
    "        y = numpy.dot(w2, h)\n",
    "        return y, h\n",
    "\n"
   ]
  },
  {
   "attachments": {},
   "cell_type": "markdown",
   "metadata": {
    "id": "g5XL_ohAE-Zh"
   },
   "source": [
    "#### Test 1: Sanity Check\n",
    "\n",
    "We select a specific number of hidden neurons and create the weights accordingly, using all zeros in the first layer and all ones in the second. The test case below ensures that the function from Task 1 actually returns $11$ for those weights."
   ]
  },
  {
   "cell_type": "code",
   "execution_count": 43,
   "metadata": {
    "colab": {
     "base_uri": "https://localhost:8080/"
    },
    "id": "ku3Sy5fzj8YH",
    "outputId": "45b07ac7-686d-432e-8d09-1342af087687"
   },
   "outputs": [
    {
     "name": "stdout",
     "output_type": "stream",
     "text": [
      "N1 test passed.\n",
      "N2 test passed.\n",
      "N3 test passed.\n"
     ]
    }
   ],
   "source": [
    "# Define test parameters\n",
    "K = 20\n",
    "D = 1\n",
    "Theta_one_layer = [numpy.ones(D+1), None]    \n",
    "Theta_two_layer = [numpy.zeros((K, D+1)), numpy.ones(K+1)]  \n",
    "x = numpy.random.rand(D+1)\n",
    "\n",
    "# Sanity check for N1\n",
    "y1, _ = network(x, Theta_one_layer, 1)\n",
    "assert abs(numpy.sum(x) - y1) < 1e-6\n",
    "print(\"N1 test passed.\")\n",
    "\n",
    "# Sanity check for N2\n",
    "y2, _ = network(x, Theta_one_layer, 2)\n",
    "assert abs(numpy.tanh(numpy.sum(x)) - y2) < 1e-6\n",
    "print(\"N2 test passed.\")\n",
    "\n",
    "# Sanity check for N3\n",
    "y3, _ = network(x, Theta_two_layer, 3)\n",
    "assert abs(1.0 - y3) < 1e-6\n",
    "print(\"N3 test passed.\")"
   ]
  },
  {
   "attachments": {},
   "cell_type": "markdown",
   "metadata": {
    "id": "-fW7_KzcE-Zi"
   },
   "source": [
    "### Gradient Implementation\n",
    "#### Task 2.2: Gradient Computation\n",
    "\n",
    "\n",
    "Implementation of a function that returns the gradient as defined for a given dataset $X=\\{(\\vec x^{[n]}, t^{[n]})\\}$, given weight(s) $\\Theta$, model_type ($N_1$, $N_2$, or $N_3$), and $\\lambda$ parameter for weight decay.\n",
    "\n",
    "---\n",
    "Note:\n",
    "\n",
    "We should make sure that both parts of the gradient are computed for $N_3$ (since $\\Theta=(\\mathbf W^{(1)},\\vec w^{(2)})$ here).\n",
    "\n",
    "This is a very slow implementation. We will see how to speed this up in the next lecture."
   ]
  },
  {
   "cell_type": "code",
   "execution_count": 47,
   "metadata": {
    "id": "3Vl_dYxcW-VD"
   },
   "outputs": [],
   "source": [
    "def compute_gradient(X, Theta, model_type, lambda_=1.):\n",
    "    \"\"\"\n",
    "    Compute the gradient of the loss function with respect to the weights for each model type.\n",
    "\n",
    "    Args:\n",
    "        X: Dataset containing input-target pairs (x, t).\n",
    "        Theta: Network parameters (W1, w2).\n",
    "        model_type: Type of model (1, 2, or 3).\n",
    "        lambda_: Weight decay parameter. Default is 1.0.\n",
    "\n",
    "    Returns:\n",
    "        Gradients with respect to W1 and w2. For model_type 1 and 2, w2 is None.\n",
    "    \"\"\"\n",
    "\n",
    "    # split parameters for easier handling\n",
    "    W1, w2 = Theta  # w2 is None if model_type is 1 or 2\n",
    "\n",
    "    \n",
    "    # define gradient with respect to both parameters\n",
    "    if model_type in [1, 2]:\n",
    "        dW1 = numpy.zeros_like(W1)  # W1 is a vector of shape (D+1,)\n",
    "        dw2 = None\n",
    "    elif model_type == 3:\n",
    "        dW1 = numpy.zeros_like(W1)  # W1 has shape (K, D+1)\n",
    "        dw2 = numpy.zeros_like(w2)  # w2 has shape (K+1,)\n",
    "    \n",
    "    N = len(X)  # number of samples\n",
    "    \n",
    "    # iterate over dataset\n",
    "    for x, t in X:\n",
    "        if model_type == 1:\n",
    "            y = numpy.dot(W1, x)\n",
    "            error = y - t\n",
    "            dW1 += error * x\n",
    "            \n",
    "        elif model_type == 2:\n",
    "            a = numpy.dot(W1, x)\n",
    "            y = numpy.tanh(a)\n",
    "            error = y - t\n",
    "            dW1 += error * (1 - y**2) * x\n",
    "            \n",
    "        elif model_type == 3:\n",
    "\n",
    "            a = numpy.dot(W1, x)  # shape (K,)\n",
    "            h = numpy.tanh(a)     # shape (K,)\n",
    "            h_aug = numpy.concatenate(([1.0], h))  # shape (K+1,)\n",
    "            y = numpy.dot(w2, h_aug)\n",
    "            error = y - t\n",
    "            \n",
    "            # Gradient for the second layer weights:\n",
    "            dw2 += error * h_aug\n",
    "\n",
    "            # Backpropagate the error to the hidden layer.\n",
    "            # For each hidden neuron k (k = 1,...,K), compute the error term:\n",
    "            # delta_k = error * w2[k+1] * (1 - h[k]^2).\n",
    "            delta = error * w2[1:] * (1 - h**2)  # shape (K,)\n",
    "            # Gradient with respect to W1: outer product of delta and input x.\n",
    "            dW1 += numpy.outer(delta, x)  # dW1 shape (K, D+1)\n",
    "    \n",
    "    # Average the gradients over the dataset\n",
    "    dW1 /= N\n",
    "    if model_type == 3:\n",
    "        dw2 /= N\n",
    "    \n",
    "    # Add weight decay (L2 regularization) gradient:\n",
    "    # The derivative of (lambda/2)*||theta||^2 with respect to theta is lambda * theta.\n",
    "    dW1 += lambda_ * W1\n",
    "    if model_type == 3:\n",
    "        dw2 += lambda_ * w2\n",
    "    \n",
    "    return dW1, dw2\n",
    "\n"
   ]
  },
  {
   "attachments": {},
   "cell_type": "markdown",
   "metadata": {
    "id": "FqAMeoy5E-aG"
   },
   "source": [
    "#### Task 2.3: Gradient Descent\n",
    "\n",
    "The procedure of gradient descent is the repeated application of two steps.\n",
    "\n",
    "1. The gradient of loss $\\nabla_{\\Theta}\\mathcal J^{L_2}$ is computed based on the current value of the parameters $\\Theta$.\n",
    "2. The weights are updated by moving a small step in the direction of the negative gradient:\n",
    "\n",
    "$$\n",
    "\\begin{align}\n",
    "    \\Theta = \\Theta - \\eta \\nabla_{\\Theta}\\mathcal J\n",
    "\\end{align}\n",
    "$$\n",
    "\n",
    "As a stopping criterion, we select the number of training epochs to be 10000.\n",
    "\n",
    "Implementation of a function that performs gradient descent for a given dataset $X$, given initial parameters $\\Theta$, a given learning rate $\\eta$, model_type ($N_1$, $N_2$, or $N_3$), and $\\lambda$ parameter for weight decay, and returns the optimized parameters $\\Theta^*$."
   ]
  },
  {
   "cell_type": "code",
   "execution_count": 49,
   "metadata": {
    "id": "Hx6Jjs2e2CFX"
   },
   "outputs": [],
   "source": [
    "def gradient_descent(X, Theta, eta, model_type, lambda_=1.):\n",
    "\n",
    "    epochs = 10000\n",
    "\n",
    "    # Perform iterative gradient descent.\n",
    "    for _ in range(epochs):\n",
    "        # compute the gradient\n",
    "        dW1, dw2 = compute_gradient(X, Theta, model_type, lambda_)\n",
    "        \n",
    "        # update the parameters\n",
    "        Theta[0] = Theta[0] - eta * dW1\n",
    "        \n",
    "        # return optimized parameters\n",
    "        if model_type == 3:\n",
    "            Theta[1] = Theta[1] - eta * dw2\n",
    "\n",
    "    return Theta\n"
   ]
  },
  {
   "attachments": {},
   "cell_type": "markdown",
   "metadata": {
    "id": "5gEeh7N8E-aH"
   },
   "source": [
    "### Datasets\n",
    "\n",
    "#### Task 2.4: Data Samples\n",
    "\n",
    "In total, we will test our gradient descent function with three different datasets. Particularly, we approximate\n",
    "\n",
    "1. $X_1: t = \\cos(3x)$ for $x\\in[-2,2]$\n",
    "2. $X_2: t = e^{-x^2}$ for $x\\in[-1,1]$\n",
    "3. $X_3: t = x^5 + 3x^4 - 6x^3 -12x^2 + 5x + 129$ for $x\\in[-4,2.5]$\n",
    "\n",
    "Generate dataset $X_1$,  for $N=60$ samples randomly drawn from range $x\\in[-2,2]$. Generate data $X_2$ for $N=50$ samples randomly drawn from range $x\\in[-1,1]$. Generate dataset $X_3$ for $N=200$ samples randomly drawn from range $x\\in[-4,2.5]$. Implement all three datasets as lists of tuples: $\\{(\\vec x^{[n]}, t^{[n]})\\mid 1\\leq n\\leq N\\}$"
   ]
  },
  {
   "cell_type": "code",
   "execution_count": 53,
   "metadata": {
    "id": "1DdPBymdcNXx"
   },
   "outputs": [
    {
     "name": "stdout",
     "output_type": "stream",
     "text": [
      "First 3 samples from X1:\n",
      "x = [1.         0.65564957] , t = -0.385871572887995\n",
      "x = [ 1.         -0.89601152] , t = -0.8988937612039112\n",
      "x = [1.         0.01213292] , t = 0.9993376382898921\n",
      "\n",
      "First 3 samples from X2:\n",
      "x = [1.         0.91684923] , t = 0.431446174019499\n",
      "x = [ 1.         -0.18187945] , t = 0.9674610309847423\n",
      "x = [ 1.         -0.06650448] , t = 0.9955869203931977\n",
      "\n",
      "First 3 samples from X3:\n",
      "x = [1.         1.58695328] , t = 111.82651098124337\n",
      "x = [1.         0.49505647] , t = 128.01626743355095\n",
      "x = [ 1.         -1.21257037] , t = 119.85464910877883\n"
     ]
    }
   ],
   "source": [
    "import numpy\n",
    "\n",
    "# X1:\n",
    "N1 = 60\n",
    "X1 = []\n",
    "xs1 = numpy.random.uniform(-2, 2, N1)\n",
    "for x in xs1:\n",
    "    x_vec = numpy.array([1.0, x])  # Input vector with bias: (1, x)^T\n",
    "    t_val = numpy.cos(3 * x)       # Target value: t = cos(3x)\n",
    "    X1.append((x_vec, t_val))\n",
    "\n",
    "# X2: \n",
    "N2 = 50\n",
    "X2 = []\n",
    "xs2 = numpy.random.uniform(-1, 1, N2)\n",
    "for x in xs2:\n",
    "    x_vec = numpy.array([1.0, x])\n",
    "    t_val = numpy.exp(-x**2)       # Target value: t = e^(-x^2)\n",
    "    X2.append((x_vec, t_val))\n",
    "\n",
    "# X3: \n",
    "N3 = 200\n",
    "X3 = []\n",
    "xs3 = numpy.random.uniform(-4, 2.5, N3)\n",
    "for x in xs3:\n",
    "    x_vec = numpy.array([1.0, x])\n",
    "    t_val = x**5 + 3*x**4 - 6*x**3 - 12*x**2 + 5*x + 129\n",
    "    X3.append((x_vec, t_val))\n",
    "\n",
    "# Optional: Display the first few samples from each dataset to verify the generation\n",
    "print(\"First 3 samples from X1:\")\n",
    "for sample in X1[:3]:\n",
    "    print(\"x =\", sample[0], \", t =\", sample[1])\n",
    "\n",
    "print(\"\\nFirst 3 samples from X2:\")\n",
    "for sample in X2[:3]:\n",
    "    print(\"x =\", sample[0], \", t =\", sample[1])\n",
    "\n",
    "print(\"\\nFirst 3 samples from X3:\")\n",
    "for sample in X3[:3]:\n",
    "    print(\"x =\", sample[0], \", t =\", sample[1])\n"
   ]
  },
  {
   "attachments": {},
   "cell_type": "markdown",
   "metadata": {
    "id": "6tGZqaiUE-aH"
   },
   "source": [
    "#### Test 2: Sanity Check\n",
    "\n",
    "The test case below ensures that the elements of each generated dataset are tuples with two dimensions."
   ]
  },
  {
   "cell_type": "code",
   "execution_count": 55,
   "metadata": {
    "colab": {
     "base_uri": "https://localhost:8080/"
    },
    "id": "WrneyBJLE-aI",
    "outputId": "96be9dcb-0709-45d3-b209-5a226b429045"
   },
   "outputs": [
    {
     "name": "stdout",
     "output_type": "stream",
     "text": [
      "Test passed!\n"
     ]
    }
   ],
   "source": [
    "import numpy\n",
    "\n",
    "assert all(\n",
    "    isinstance(x, (tuple,list)) and\n",
    "    len(x) == 2 and\n",
    "    isinstance(x[0], (tuple,list,numpy.ndarray)) and\n",
    "    len(x[0] == 2) and\n",
    "    isinstance(x[1], float)\n",
    "    for X in (X1, X2, X3)\n",
    "    for x in X\n",
    ")\n",
    "\n",
    "print('Test passed!')"
   ]
  },
  {
   "attachments": {},
   "cell_type": "markdown",
   "metadata": {
    "id": "v0p9mC4YE-aI"
   },
   "source": [
    "### Function Approximation\n",
    "Finally, we want to make use of our gradient descent implementation to approximate our functions. In order to see our success, we want to plot the functions together with the data.\n",
    "\n",
    "#### Task 2.5: Define hidden Neurons\n",
    "How many hidden neurons will we need for $N_3$? Use the answers from Task 1.2."
   ]
  },
  {
   "cell_type": "code",
   "execution_count": 57,
   "metadata": {
    "id": "OLichgq7cNXy"
   },
   "outputs": [],
   "source": [
    "# Define the number of hidden neurons for each target function:\n",
    "# For X1 (t = cos(3x)), a smooth oscillatory function, ~3-4 neurons are sufficient.\n",
    "K1 = 4\n",
    "\n",
    "# For X2 (t = exp(-x^2)), a bell-shaped smooth function, ~3-4 neurons are also sufficient.\n",
    "K2 = 4\n",
    "\n",
    "# For X3 (a 5th-degree polynomial), which is more complex, we may need ~4-5 neurons.\n",
    "K3 = 5\n"
   ]
  },
  {
   "attachments": {},
   "cell_type": "markdown",
   "metadata": {
    "id": "1fvx31eyE-aI"
   },
   "source": [
    "#### Task 2.6: Random Parameters\n",
    "\n",
    "For each of the networks, randomly initialize the parameters $\\Theta_1,\\Theta_2,\\Theta_3\\in[-1,1]$ for each of the datasets.\n",
    "\n",
    "For $N_3$, use the number of hidden neurons estimated in Task 1.2 and implemented in Task 2.5.\n",
    "\n",
    "---\n",
    "Note:\n",
    "\n",
    "  1. You can use `numpy.random.uniform` to initialize the weights.\n",
    "  2. Make sure that the weight matrices are instantiated in the correct dimensions.\n",
    "  3. Theta should always have two elements. The second element can be `None` for one-layer networks.\n"
   ]
  },
  {
   "cell_type": "code",
   "execution_count": 59,
   "metadata": {
    "id": "Aq768_chcNXy"
   },
   "outputs": [
    {
     "name": "stdout",
     "output_type": "stream",
     "text": [
      "Theta_N1['X1'] shape: (2,)\n",
      "Theta_N2['X1'] shape: (2,)\n",
      "Theta_N3['X1'] first layer shape: (4, 2)\n",
      "Theta_N3['X1'] second layer shape: (5,)\n"
     ]
    }
   ],
   "source": [
    "import numpy\n",
    "\n",
    "# For one-layer networks, D = 1 so each weight vector has shape (D+1,) = (2,)\n",
    "# and the second element is set to None.\n",
    "Theta_N1 = {\n",
    "    \"X1\": [numpy.random.uniform(-1, 1, (2,)), None],\n",
    "    \"X2\": [numpy.random.uniform(-1, 1, (2,)), None],\n",
    "    \"X3\": [numpy.random.uniform(-1, 1, (2,)), None]\n",
    "}\n",
    "\n",
    "Theta_N2 = {\n",
    "    \"X1\": [numpy.random.uniform(-1, 1, (2,)), None],\n",
    "    \"X2\": [numpy.random.uniform(-1, 1, (2,)), None],\n",
    "    \"X3\": [numpy.random.uniform(-1, 1, (2,)), None]\n",
    "}\n",
    "\n",
    "# For the two-layer network (N3), we need to choose the number of hidden neurons.\n",
    "# Based on our earlier discussion, we set:\n",
    "#   K1 = 4 for X1,\n",
    "#   K2 = 4 for X2,\n",
    "#   K3 = 5 for X3.\n",
    "K1 = 4\n",
    "K2 = 4\n",
    "K3 = 5\n",
    "\n",
    "# For N3, the first layer weight matrix should have shape (K, D+1) and the second layer weight vector has shape (K+1,).\n",
    "Theta_N3 = {\n",
    "    \"X1\": [numpy.random.uniform(-1, 1, (K1, 2)), np.random.uniform(-1, 1, (K1 + 1,))],\n",
    "    \"X2\": [numpy.random.uniform(-1, 1, (K2, 2)), np.random.uniform(-1, 1, (K2 + 1,))],\n",
    "    \"X3\": [numpy.random.uniform(-1, 1, (K3, 2)), np.random.uniform(-1, 1, (K3 + 1,))]\n",
    "}\n",
    "\n",
    "# Optionally, print out the shapes to verify\n",
    "print(\"Theta_N1['X1'] shape:\", Theta_N1[\"X1\"][0].shape)\n",
    "print(\"Theta_N2['X1'] shape:\", Theta_N2[\"X1\"][0].shape)\n",
    "print(\"Theta_N3['X1'] first layer shape:\", Theta_N3[\"X1\"][0].shape)\n",
    "print(\"Theta_N3['X1'] second layer shape:\", Theta_N3[\"X1\"][1].shape)\n"
   ]
  },
  {
   "attachments": {},
   "cell_type": "markdown",
   "metadata": {
    "id": "1jCM2nyRE-aI"
   },
   "source": [
    "#### Task 2.7: Run Gradient Descent\n",
    "\n",
    "For each network, call gradient descent function from Task 2.3 using the datasets $X_1, X_2, X_3$, the according created parameters $\\Theta_1,\\Theta_2,\\Theta_3$. Store the resulting optimized weights $\\Theta_1^*, \\Theta_2^*, \\Theta_3^*$.\n",
    "\n",
    "Based on your chosen learning rates $\\eta$ and weight decay parameter $\\lambda$, you may need to optimize them for these functions. Do you see any differences? What are the best learning rates that you can find?\n",
    "\n",
    "---\n",
    "<span style=\"color:red\">WARNING: Depending on the implementation, this might run for several minutes!</span>\n",
    "\n",
    "---\n",
    "Note:\n",
    "\n",
    "1. Start with $\\eta=0.1$ and play around with the learning rate improve adaptation.\n",
    "2. $\\eta=0.1$ is too large for $X_3$."
   ]
  },
  {
   "cell_type": "code",
   "execution_count": 62,
   "metadata": {
    "id": "I4sjPUH_cNXz"
   },
   "outputs": [
    {
     "name": "stdout",
     "output_type": "stream",
     "text": [
      "Optimized Theta for N1 on X1: [array([-0.00129397, -0.02407945]), None]\n",
      "Optimized Theta for N1 on X2: [array([0.38433499, 0.02191576]), None]\n",
      "Optimized Theta for N1 on X3: [array([62.04948081, -8.24716932]), None]\n",
      "--------------------------------------------------\n"
     ]
    }
   ],
   "source": [
    "# N1\n",
    "# Call gradient descent function using the datasets and initial weights that you created above\n",
    "# Choose appropriate learning rates for each function\n",
    "\n",
    "# For Network N1 (one-layer linear model)\n",
    "eta_N1_X1 = 0.1\n",
    "eta_N1_X2 = 0.1\n",
    "eta_N1_X3 = 0.01  # Lower learning rate for the more complex X3\n",
    "\n",
    "Theta_N1_X1_star = gradient_descent(X1, Theta_N1[\"X1\"], eta_N1_X1, model_type=1, lambda_=1.0)\n",
    "Theta_N1_X2_star = gradient_descent(X2, Theta_N1[\"X2\"], eta_N1_X2, model_type=1, lambda_=1.0)\n",
    "Theta_N1_X3_star = gradient_descent(X3, Theta_N1[\"X3\"], eta_N1_X3, model_type=1, lambda_=1.0)\n",
    "\n",
    "print(\"Optimized Theta for N1 on X1:\", Theta_N1_X1_star)\n",
    "print(\"Optimized Theta for N1 on X2:\", Theta_N1_X2_star)\n",
    "print(\"Optimized Theta for N1 on X3:\", Theta_N1_X3_star)\n",
    "print(\"-\" * 50)"
   ]
  },
  {
   "cell_type": "code",
   "execution_count": 63,
   "metadata": {
    "id": "Uio-gjhi3GBx"
   },
   "outputs": [
    {
     "name": "stdout",
     "output_type": "stream",
     "text": [
      "Optimized Theta for N2 on X1: [array([-0.00136801, -0.02407865]), None]\n",
      "Optimized Theta for N2 on X2: [array([0.36634883, 0.02221976]), None]\n",
      "Optimized Theta for N2 on X3: [array([ 2.60929034, -0.07671296]), None]\n",
      "--------------------------------------------------\n"
     ]
    }
   ],
   "source": [
    "# N2\n",
    "# Call gradient descent function using the datasets and initial weights that you created above\n",
    "# Choose appropriate learning rates for each function\n",
    "eta_N2_X1 = 0.1\n",
    "eta_N2_X2 = 0.1\n",
    "eta_N2_X3 = 0.01  # Lower learning rate for X3\n",
    "\n",
    "Theta_N2_X1_star = gradient_descent(X1, Theta_N2[\"X1\"], eta_N2_X1, model_type=2, lambda_=1.0)\n",
    "Theta_N2_X2_star = gradient_descent(X2, Theta_N2[\"X2\"], eta_N2_X2, model_type=2, lambda_=1.0)\n",
    "Theta_N2_X3_star = gradient_descent(X3, Theta_N2[\"X3\"], eta_N2_X3, model_type=2, lambda_=1.0)\n",
    "\n",
    "print(\"Optimized Theta for N2 on X1:\", Theta_N2_X1_star)\n",
    "print(\"Optimized Theta for N2 on X2:\", Theta_N2_X2_star)\n",
    "print(\"Optimized Theta for N2 on X3:\", Theta_N2_X3_star)\n",
    "print(\"-\" * 50)"
   ]
  },
  {
   "cell_type": "code",
   "execution_count": 69,
   "metadata": {
    "id": "dCPF-Q3C3GJk"
   },
   "outputs": [
    {
     "name": "stdout",
     "output_type": "stream",
     "text": [
      "Optimized Theta for N3 on X1: [array([[ 2.e-323,  2.e-323],\n",
      "       [-2.e-323, -2.e-323],\n",
      "       [ 2.e-323,  2.e-323],\n",
      "       [-2.e-323, -2.e-323]]), array([-2.85473679e-003, -1.97626258e-323,  1.97626258e-323,\n",
      "       -1.97626258e-323,  1.97626258e-323])]\n",
      "Optimized Theta for N3 on X2: [array([[ 3.5e-323,  2.0e-323],\n",
      "       [-3.5e-323, -2.0e-323],\n",
      "       [-3.5e-323, -2.0e-323],\n",
      "       [ 3.5e-323,  2.0e-323]]), array([ 3.85520656e-001,  3.45845952e-323, -3.45845952e-323,\n",
      "       -3.45845952e-323,  3.45845952e-323])]\n",
      "Optimized Theta for N3 on X3: [array([[ 3.01020765, -0.10102487],\n",
      "       [ 3.01020765, -0.10102487],\n",
      "       [-3.01020765,  0.10102487],\n",
      "       [ 3.01020765, -0.10102487],\n",
      "       [ 3.01020765, -0.10102487]]), array([ 18.47943707,  18.39741337,  18.39741337, -18.39741337,\n",
      "        18.39741337,  18.39741337])]\n",
      "--------------------------------------------------\n"
     ]
    }
   ],
   "source": [
    "# N3\n",
    "# Call gradient descent function using the datasets and initial weights that you created above\n",
    "# Choose appropriate learning rates for each function\n",
    "eta_N3_X1 = 0.1\n",
    "eta_N3_X2 = 0.1\n",
    "eta_N3_X3 = 0.01  # Lower learning rate for X3\n",
    "\n",
    "Theta_N3_X1_star = gradient_descent(X1, Theta_N3[\"X1\"], eta_N3_X1, model_type=3, lambda_=1.0)\n",
    "Theta_N3_X2_star = gradient_descent(X2, Theta_N3[\"X2\"], eta_N3_X2, model_type=3, lambda_=1.0)\n",
    "Theta_N3_X3_star = gradient_descent(X3, Theta_N3[\"X3\"], eta_N3_X3, model_type=3, lambda_=1.0)\n",
    "\n",
    "print(\"Optimized Theta for N3 on X1:\", Theta_N3_X1_star)\n",
    "print(\"Optimized Theta for N3 on X2:\", Theta_N3_X2_star)\n",
    "print(\"Optimized Theta for N3 on X3:\", Theta_N3_X3_star)\n",
    "print(\"-\" * 50)"
   ]
  },
  {
   "attachments": {},
   "cell_type": "markdown",
   "metadata": {
    "id": "Y8_C3TseE-aJ"
   },
   "source": [
    "### Data and Function Plotting\n",
    "\n",
    "### Task 2.8: Plotting Function\n",
    "\n",
    "Implement a plotting function that takes a given dataset $X$, given parameters $\\Theta$, model_type, and a defined range $R=[\\min,\\max]$. Each data sample $(x^{[n]},t^{[n]})$ of the dataset is plotted as an $''x''$. In order to plot the function that is approximated by the network, generate sufficient equally-spaced input values $x\\in R$, compute the network output $y$ for these inputs, and plot them with a line.\n",
    "\n",
    "---\n",
    "Note:\n",
    "\n",
    "  1. The dataset $X$ is defined as above, a list of tuples $(\\vec x, t)$.\n",
    "  2. Each input in the dataset is defined as $\\vec x = (1,x)^T$.\n",
    "  3. Equidistant points can be obtained via `numpy.arange`.\n"
   ]
  },
  {
   "cell_type": "code",
   "execution_count": 79,
   "metadata": {
    "id": "6sII26VJcNXz"
   },
   "outputs": [],
   "source": [
    "from matplotlib import pyplot\n",
    "import numpy\n",
    "\n",
    "def plot(X, Theta, model_type, R):\n",
    "\n",
    "    # Extract x values and targets from the dataset X.\n",
    "    xs_data = numpy.array([sample[0][1] for sample in X]) \n",
    "    ts_data = numpy.array([sample[1] for sample in X])\n",
    "    \n",
    "    # first, plot data samples\n",
    "    pyplot.plot(xs_data, ts_data, \"rx\", label=\"Data\")\n",
    "    \n",
    "    # Define equidistant points from R[0] to R[1].\n",
    "    step = (R[1] - R[0]) / 200.0  # adjust number of points as needed; here, ~200 points.\n",
    "    xs = numpy.arange(R[0], R[1] + step, step)\n",
    "    \n",
    "    # compute the network outputs for these values\n",
    "    # Each input to the network is defined as a column vector: (1, x)^T.\n",
    "    ys = numpy.array([network(np.array([1.0, x]), Theta, model_type)[0] for x in xs])\n",
    "    \n",
    "    # plot network approximation\n",
    "    pyplot.plot(xs,ys,\"k-\", label=\"network\")\n",
    "    pyplot.legend()\n",
    "    "
   ]
  },
  {
   "attachments": {},
   "cell_type": "markdown",
   "metadata": {
    "id": "YXcO5e-sE-aJ"
   },
   "source": [
    "#### Task 2.9: Plot Three Functions\n",
    "\n",
    "For each of the datasets and their optimized parameters, call the plotting function from Task 2.8. Use range $R=[-3,3]$ for dataset $X_1$, range $R=[-2,2]$ for $X_2$, and range $R=[-5,4]$ for dataset $X_3$.\n",
    "\n",
    "Note that the first element of range $R$ should be the lowest $x$-location, and the second element of $R$ is the highest value for $x$.\n",
    "\n",
    "Repeat for three networks."
   ]
  },
  {
   "cell_type": "code",
   "execution_count": 81,
   "metadata": {
    "id": "CY3YGkXgcNXz"
   },
   "outputs": [
    {
     "data": {
      "image/png": "[encoded data removed]",
      "text/plain": [
       "<Figure size 1000x300 with 3 Axes>"
      ]
     },
     "metadata": {},
     "output_type": "display_data"
    }
   ],
   "source": [
    "from matplotlib import pyplot\n",
    "\n",
    "figure = pyplot.figure(figsize=(10, 3))\n",
    "\n",
    "# plot first function\n",
    "pyplot.subplot(131)\n",
    "plot(X1, Theta_N3_X1_star, model_type=3, R=[-3, 3])\n",
    "pyplot.title(\"N3 on X1\")\n",
    "\n",
    "# plot second function\n",
    "pyplot.subplot(132)\n",
    "plot(X2, Theta_N3_X2_star, model_type=3, R=[-2, 2])\n",
    "pyplot.title(\"N3 on X2\")\n",
    "\n",
    "# plot third function\n",
    "pyplot.subplot(133)\n",
    "plot(X3, Theta_N3_X3_star, model_type=3, R=[-5, 4])\n",
    "pyplot.title(\"N3 on X3\")\n",
    "\n",
    "pyplot.tight_layout()\n",
    "pyplot.show()\n"
   ]
  },
  {
   "cell_type": "code",
   "execution_count": null,
   "metadata": {},
   "outputs": [],
   "source": []
  },
  {
   "cell_type": "code",
   "execution_count": null,
   "metadata": {},
   "outputs": [],
   "source": []
  }
 ],
 "metadata": {
  "colab": {
   "provenance": []
  },
  "kernelspec": {
   "display_name": "Python [conda env:base] *",
   "language": "python",
   "name": "conda-base-py"
  },
  "language_info": {
   "codemirror_mode": {
    "name": "ipython",
    "version": 3
   },
   "file_extension": ".py",
   "mimetype": "text/x-python",
   "name": "python",
   "nbconvert_exporter": "python",
   "pygments_lexer": "ipython3",
   "version": "3.12.7"
  }
 },
 "nbformat": 4,
 "nbformat_minor": 4
}
